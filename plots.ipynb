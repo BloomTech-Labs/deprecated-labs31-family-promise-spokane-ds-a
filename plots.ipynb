{
 "metadata": {
  "language_info": {
   "codemirror_mode": {
    "name": "ipython",
    "version": 3
   },
   "file_extension": ".py",
   "mimetype": "text/x-python",
   "name": "python",
   "nbconvert_exporter": "python",
   "pygments_lexer": "ipython3",
   "version": "3.8.8-final"
  },
  "orig_nbformat": 2,
  "kernelspec": {
   "name": "python3",
   "display_name": "Python 3.8.8 64-bit ('family-promise-spokane-ds-a': pipenv)",
   "metadata": {
    "interpreter": {
     "hash": "34497f6c6e5a24cb2d844aa555e93813ae3a0e7a131a009f1653427fd1ad802c"
    }
   }
  }
 },
 "nbformat": 4,
 "nbformat_minor": 2,
 "cells": [
  {
   "cell_type": "code",
   "execution_count": 1,
   "metadata": {},
   "outputs": [],
   "source": [
    "\n",
    "# Notebook must be in root in order to import app.db\n",
    "from app.db import SessionLocal, Member\n",
    "from app.visualize import plot_exit_pie, plot_moving_avg\n",
    "\n",
    "import plotly.express as px"
   ]
  },
  {
   "cell_type": "code",
   "execution_count": 2,
   "metadata": {},
   "outputs": [],
   "source": [
    "session = SessionLocal()"
   ]
  },
  {
   "cell_type": "code",
   "execution_count": 3,
   "metadata": {},
   "outputs": [
    {
     "output_type": "display_data",
     "data": {
      "application/vnd.plotly.v1+json": {
       "config": {
        "plotlyServerURL": "https://plot.ly"
       },
       "data": [
        {
         "customdata": [
          [
           "Emergency Shelter"
          ],
          [
           "Emergency Shelter"
          ],
          [
           "Permanent Exit"
          ],
          [
           "Permanent Exit"
          ],
          [
           "Permanent Exit"
          ],
          [
           "Permanent Exit"
          ],
          [
           "Permanent Exit"
          ],
          [
           "Permanent Exit"
          ],
          [
           "Permanent Exit"
          ],
          [
           "Permanent Exit"
          ],
          [
           "Permanent Exit"
          ],
          [
           "Permanent Exit"
          ],
          [
           "Permanent Exit"
          ],
          [
           "Permanent Exit"
          ],
          [
           "Permanent Exit"
          ],
          [
           "Permanent Exit"
          ],
          [
           "Permanent Exit"
          ],
          [
           "Permanent Exit"
          ],
          [
           "Permanent Exit"
          ],
          [
           "Emergency Shelter"
          ],
          [
           "Emergency Shelter"
          ],
          [
           "Permanent Exit"
          ],
          [
           "Permanent Exit"
          ],
          [
           "Permanent Exit"
          ],
          [
           "Permanent Exit"
          ],
          [
           "Permanent Exit"
          ],
          [
           "Permanent Exit"
          ],
          [
           "Permanent Exit"
          ],
          [
           "Permanent Exit"
          ],
          [
           "Permanent Exit"
          ],
          [
           "Permanent Exit"
          ],
          [
           "Permanent Exit"
          ],
          [
           "Permanent Exit"
          ],
          [
           "Permanent Exit"
          ],
          [
           "Permanent Exit"
          ],
          [
           "Temporary Exit"
          ],
          [
           "Temporary Exit"
          ],
          [
           "Temporary Exit"
          ],
          [
           "Emergency Shelter"
          ],
          [
           "Permanent Exit"
          ],
          [
           "Permanent Exit"
          ],
          [
           "Permanent Exit"
          ],
          [
           "Permanent Exit"
          ],
          [
           "Permanent Exit"
          ],
          [
           "Permanent Exit"
          ],
          [
           "Emergency Shelter"
          ],
          [
           "Emergency Shelter"
          ],
          [
           "Emergency Shelter"
          ],
          [
           "Emergency Shelter"
          ],
          [
           "Permanent Exit"
          ],
          [
           "Permanent Exit"
          ],
          [
           "Permanent Exit"
          ],
          [
           "Permanent Exit"
          ],
          [
           "Emergency Shelter"
          ],
          [
           "Emergency Shelter"
          ],
          [
           "Emergency Shelter"
          ],
          [
           "Emergency Shelter"
          ],
          [
           "Permanent Exit"
          ],
          [
           "Permanent Exit"
          ],
          [
           "Permanent Exit"
          ],
          [
           "Emergency Shelter"
          ],
          [
           "Emergency Shelter"
          ],
          [
           "Transitional Housing"
          ],
          [
           "Unknown/Other"
          ],
          [
           "Unknown/Other"
          ],
          [
           "Unknown/Other"
          ],
          [
           "Unknown/Other"
          ],
          [
           "Unknown/Other"
          ],
          [
           "Unknown/Other"
          ],
          [
           "Unknown/Other"
          ],
          [
           "Unknown/Other"
          ],
          [
           "Unknown/Other"
          ],
          [
           "Unknown/Other"
          ],
          [
           "Unknown/Other"
          ],
          [
           "Emergency Shelter"
          ],
          [
           "Emergency Shelter"
          ],
          [
           "Transitional Housing"
          ],
          [
           "Transitional Housing"
          ],
          [
           "Transitional Housing"
          ],
          [
           "Transitional Housing"
          ],
          [
           "Transitional Housing"
          ],
          [
           "Transitional Housing"
          ],
          [
           "Transitional Housing"
          ],
          [
           "Transitional Housing"
          ],
          [
           "Transitional Housing"
          ],
          [
           "Transitional Housing"
          ],
          [
           "Transitional Housing"
          ],
          [
           "Emergency Shelter"
          ],
          [
           "Emergency Shelter"
          ],
          [
           "Emergency Shelter"
          ],
          [
           "Emergency Shelter"
          ],
          [
           "Temporary Exit"
          ],
          [
           "Temporary Exit"
          ],
          [
           "Emergency Shelter"
          ],
          [
           "Emergency Shelter"
          ],
          [
           "Emergency Shelter"
          ],
          [
           "Emergency Shelter"
          ],
          [
           "Permanent Exit"
          ],
          [
           "Permanent Exit"
          ],
          [
           "Permanent Exit"
          ],
          [
           "Permanent Exit"
          ],
          [
           "Permanent Exit"
          ],
          [
           "Permanent Exit"
          ],
          [
           "Permanent Exit"
          ],
          [
           "Permanent Exit"
          ],
          [
           "Permanent Exit"
          ],
          [
           "Unknown/Other"
          ],
          [
           "Unknown/Other"
          ],
          [
           "Emergency Shelter"
          ],
          [
           "Emergency Shelter"
          ],
          [
           "Emergency Shelter"
          ],
          [
           "Emergency Shelter"
          ],
          [
           "Permanent Exit"
          ],
          [
           "Permanent Exit"
          ],
          [
           "Permanent Exit"
          ],
          [
           "Permanent Exit"
          ],
          [
           "Permanent Exit"
          ],
          [
           "Permanent Exit"
          ],
          [
           "Permanent Exit"
          ],
          [
           "Permanent Exit"
          ],
          [
           "Permanent Exit"
          ],
          [
           "Permanent Exit"
          ],
          [
           "Permanent Exit"
          ],
          [
           "Temporary Exit"
          ],
          [
           "Temporary Exit"
          ],
          [
           "Permanent Exit"
          ],
          [
           "Permanent Exit"
          ],
          [
           "Emergency Shelter"
          ],
          [
           "Emergency Shelter"
          ],
          [
           "Emergency Shelter"
          ],
          [
           "Unknown/Other"
          ],
          [
           "Unknown/Other"
          ],
          [
           "Unknown/Other"
          ],
          [
           "Unknown/Other"
          ],
          [
           "Permanent Exit"
          ],
          [
           "Permanent Exit"
          ],
          [
           "Permanent Exit"
          ],
          [
           "Unknown/Other"
          ],
          [
           "Unknown/Other"
          ],
          [
           "Emergency Shelter"
          ],
          [
           "Transitional Housing"
          ],
          [
           "Transitional Housing"
          ],
          [
           "Emergency Shelter"
          ],
          [
           "Emergency Shelter"
          ],
          [
           "Emergency Shelter"
          ],
          [
           "Emergency Shelter"
          ],
          [
           "Emergency Shelter"
          ],
          [
           "Emergency Shelter"
          ],
          [
           "Emergency Shelter"
          ],
          [
           "Emergency Shelter"
          ],
          [
           "Emergency Shelter"
          ],
          [
           "Emergency Shelter"
          ],
          [
           "Emergency Shelter"
          ],
          [
           "Emergency Shelter"
          ],
          [
           "Permanent Exit"
          ],
          [
           "Emergency Shelter"
          ],
          [
           "Emergency Shelter"
          ],
          [
           "Emergency Shelter"
          ],
          [
           "Unknown/Other"
          ],
          [
           "Unknown/Other"
          ],
          [
           "Permanent Exit"
          ],
          [
           "Permanent Exit"
          ],
          [
           "Permanent Exit"
          ],
          [
           "Unknown/Other"
          ],
          [
           "Unknown/Other"
          ],
          [
           "Unknown/Other"
          ],
          [
           "Unknown/Other"
          ],
          [
           "Unknown/Other"
          ],
          [
           "Unknown/Other"
          ],
          [
           "Permanent Exit"
          ],
          [
           "Permanent Exit"
          ],
          [
           "Permanent Exit"
          ],
          [
           "Permanent Exit"
          ],
          [
           "Permanent Exit"
          ],
          [
           "Permanent Exit"
          ],
          [
           "Permanent Exit"
          ],
          [
           "Permanent Exit"
          ],
          [
           "Permanent Exit"
          ],
          [
           "Unknown/Other"
          ],
          [
           "Unknown/Other"
          ],
          [
           "Permanent Exit"
          ],
          [
           "Unknown/Other"
          ],
          [
           "Unknown/Other"
          ],
          [
           "Unknown/Other"
          ],
          [
           "Unknown/Other"
          ],
          [
           "Unknown/Other"
          ],
          [
           "Unknown/Other"
          ],
          [
           "Unknown/Other"
          ],
          [
           "Emergency Shelter"
          ],
          [
           "Emergency Shelter"
          ],
          [
           "Unknown/Other"
          ],
          [
           "Permanent Exit"
          ],
          [
           "Temporary Exit"
          ],
          [
           "Temporary Exit"
          ],
          [
           "Temporary Exit"
          ],
          [
           "Temporary Exit"
          ],
          [
           "Temporary Exit"
          ],
          [
           "Emergency Shelter"
          ],
          [
           "Emergency Shelter"
          ],
          [
           "Emergency Shelter"
          ],
          [
           "Emergency Shelter"
          ],
          [
           "Emergency Shelter"
          ],
          [
           "Emergency Shelter"
          ],
          [
           "Emergency Shelter"
          ],
          [
           "Emergency Shelter"
          ],
          [
           "Temporary Exit"
          ],
          [
           "Temporary Exit"
          ],
          [
           "Emergency Shelter"
          ],
          [
           "Emergency Shelter"
          ],
          [
           "Emergency Shelter"
          ],
          [
           "Emergency Shelter"
          ],
          [
           "Permanent Exit"
          ],
          [
           "Permanent Exit"
          ],
          [
           "Permanent Exit"
          ],
          [
           "Permanent Exit"
          ],
          [
           "Permanent Exit"
          ],
          [
           "Permanent Exit"
          ],
          [
           "Permanent Exit"
          ],
          [
           "Permanent Exit"
          ],
          [
           "Emergency Shelter"
          ],
          [
           "Emergency Shelter"
          ],
          [
           "Emergency Shelter"
          ],
          [
           "Emergency Shelter"
          ],
          [
           "Permanent Exit"
          ],
          [
           "Permanent Exit"
          ],
          [
           "Permanent Exit"
          ],
          [
           "Permanent Exit"
          ],
          [
           "Emergency Shelter"
          ],
          [
           "Emergency Shelter"
          ],
          [
           "Permanent Exit"
          ],
          [
           "Permanent Exit"
          ],
          [
           "Permanent Exit"
          ],
          [
           "Permanent Exit"
          ],
          [
           "Permanent Exit"
          ],
          [
           "Unknown/Other"
          ],
          [
           "Unknown/Other"
          ],
          [
           "Unknown/Other"
          ],
          [
           "Emergency Shelter"
          ],
          [
           "Temporary Exit"
          ],
          [
           "Emergency Shelter"
          ],
          [
           "Emergency Shelter"
          ],
          [
           "Emergency Shelter"
          ],
          [
           "Emergency Shelter"
          ],
          [
           "Emergency Shelter"
          ],
          [
           "Permanent Exit"
          ],
          [
           "Permanent Exit"
          ],
          [
           "Emergency Shelter"
          ],
          [
           "Permanent Exit"
          ],
          [
           "Permanent Exit"
          ],
          [
           "Permanent Exit"
          ],
          [
           "Permanent Exit"
          ],
          [
           "Permanent Exit"
          ],
          [
           "Permanent Exit"
          ],
          [
           "Permanent Exit"
          ],
          [
           "Permanent Exit"
          ],
          [
           "Emergency Shelter"
          ],
          [
           "Emergency Shelter"
          ],
          [
           "Emergency Shelter"
          ],
          [
           "Emergency Shelter"
          ],
          [
           "Emergency Shelter"
          ],
          [
           "Emergency Shelter"
          ],
          [
           "Emergency Shelter"
          ],
          [
           "Emergency Shelter"
          ],
          [
           "Emergency Shelter"
          ],
          [
           "Emergency Shelter"
          ],
          [
           "Unknown/Other"
          ],
          [
           "Unknown/Other"
          ],
          [
           "Unknown/Other"
          ],
          [
           "Unknown/Other"
          ],
          [
           "Unknown/Other"
          ],
          [
           "Unknown/Other"
          ],
          [
           "Temporary Exit"
          ],
          [
           "Temporary Exit"
          ],
          [
           "Temporary Exit"
          ],
          [
           "Temporary Exit"
          ],
          [
           "Emergency Shelter"
          ],
          [
           "Emergency Shelter"
          ],
          [
           "Emergency Shelter"
          ],
          [
           "Transitional Housing"
          ],
          [
           "Transitional Housing"
          ],
          [
           "Transitional Housing"
          ],
          [
           "Transitional Housing"
          ],
          [
           "Emergency Shelter"
          ],
          [
           "Emergency Shelter"
          ],
          [
           "Emergency Shelter"
          ],
          [
           "Permanent Exit"
          ],
          [
           "Permanent Exit"
          ],
          [
           "Permanent Exit"
          ],
          [
           "Permanent Exit"
          ],
          [
           "Permanent Exit"
          ],
          [
           "Permanent Exit"
          ],
          [
           "Unknown/Other"
          ],
          [
           "Unknown/Other"
          ],
          [
           "Unknown/Other"
          ],
          [
           "Permanent Exit"
          ],
          [
           "Permanent Exit"
          ],
          [
           "Permanent Exit"
          ],
          [
           "Permanent Exit"
          ],
          [
           "Permanent Exit"
          ],
          [
           "Permanent Exit"
          ],
          [
           "Unknown/Other"
          ],
          [
           "Unknown/Other"
          ],
          [
           "Unknown/Other"
          ],
          [
           "Unknown/Other"
          ],
          [
           "Emergency Shelter"
          ],
          [
           "Emergency Shelter"
          ],
          [
           "Unknown/Other"
          ],
          [
           "Unknown/Other"
          ],
          [
           "Permanent Exit"
          ],
          [
           "Permanent Exit"
          ],
          [
           "Permanent Exit"
          ],
          [
           "Permanent Exit"
          ],
          [
           "Permanent Exit"
          ],
          [
           "Emergency Shelter"
          ],
          [
           "Emergency Shelter"
          ],
          [
           "Temporary Exit"
          ],
          [
           "Temporary Exit"
          ],
          [
           "Temporary Exit"
          ],
          [
           "Temporary Exit"
          ],
          [
           "Transitional Housing"
          ],
          [
           "Unknown/Other"
          ],
          [
           "Temporary Exit"
          ],
          [
           "Temporary Exit"
          ],
          [
           "Temporary Exit"
          ],
          [
           "Unknown/Other"
          ],
          [
           "Unknown/Other"
          ],
          [
           "Unknown/Other"
          ],
          [
           "Emergency Shelter"
          ],
          [
           "Emergency Shelter"
          ],
          [
           "Emergency Shelter"
          ],
          [
           "Emergency Shelter"
          ],
          [
           "Emergency Shelter"
          ],
          [
           "Emergency Shelter"
          ],
          [
           "Emergency Shelter"
          ],
          [
           "Emergency Shelter"
          ],
          [
           "Unknown/Other"
          ],
          [
           "Unknown/Other"
          ],
          [
           "Unknown/Other"
          ],
          [
           "Permanent Exit"
          ],
          [
           "Permanent Exit"
          ],
          [
           "Permanent Exit"
          ],
          [
           "Permanent Exit"
          ],
          [
           "Unknown/Other"
          ],
          [
           "Unknown/Other"
          ],
          [
           "Unknown/Other"
          ],
          [
           "Unknown/Other"
          ],
          [
           "Unknown/Other"
          ],
          [
           "Temporary Exit"
          ],
          [
           "Temporary Exit"
          ],
          [
           "Temporary Exit"
          ],
          [
           "Temporary Exit"
          ],
          [
           "Temporary Exit"
          ],
          [
           "Temporary Exit"
          ],
          [
           "Temporary Exit"
          ],
          [
           "Permanent Exit"
          ],
          [
           "Permanent Exit"
          ],
          [
           "Permanent Exit"
          ],
          [
           "Transitional Housing"
          ],
          [
           "Transitional Housing"
          ],
          [
           "Transitional Housing"
          ],
          [
           "Transitional Housing"
          ],
          [
           "Transitional Housing"
          ],
          [
           "Emergency Shelter"
          ],
          [
           "Emergency Shelter"
          ],
          [
           "Emergency Shelter"
          ]
         ],
         "domain": {
          "x": [
           0,
           1
          ],
          "y": [
           0,
           1
          ]
         },
         "hovertemplate": "dest=%{customdata[0]}<br>count=%{value}<extra></extra>",
         "labels": [
          "Emergency Shelter",
          "Emergency Shelter",
          "Permanent Exit",
          "Permanent Exit",
          "Permanent Exit",
          "Permanent Exit",
          "Permanent Exit",
          "Permanent Exit",
          "Permanent Exit",
          "Permanent Exit",
          "Permanent Exit",
          "Permanent Exit",
          "Permanent Exit",
          "Permanent Exit",
          "Permanent Exit",
          "Permanent Exit",
          "Permanent Exit",
          "Permanent Exit",
          "Permanent Exit",
          "Emergency Shelter",
          "Emergency Shelter",
          "Permanent Exit",
          "Permanent Exit",
          "Permanent Exit",
          "Permanent Exit",
          "Permanent Exit",
          "Permanent Exit",
          "Permanent Exit",
          "Permanent Exit",
          "Permanent Exit",
          "Permanent Exit",
          "Permanent Exit",
          "Permanent Exit",
          "Permanent Exit",
          "Permanent Exit",
          "Temporary Exit",
          "Temporary Exit",
          "Temporary Exit",
          "Emergency Shelter",
          "Permanent Exit",
          "Permanent Exit",
          "Permanent Exit",
          "Permanent Exit",
          "Permanent Exit",
          "Permanent Exit",
          "Emergency Shelter",
          "Emergency Shelter",
          "Emergency Shelter",
          "Emergency Shelter",
          "Permanent Exit",
          "Permanent Exit",
          "Permanent Exit",
          "Permanent Exit",
          "Emergency Shelter",
          "Emergency Shelter",
          "Emergency Shelter",
          "Emergency Shelter",
          "Permanent Exit",
          "Permanent Exit",
          "Permanent Exit",
          "Emergency Shelter",
          "Emergency Shelter",
          "Transitional Housing",
          "Unknown/Other",
          "Unknown/Other",
          "Unknown/Other",
          "Unknown/Other",
          "Unknown/Other",
          "Unknown/Other",
          "Unknown/Other",
          "Unknown/Other",
          "Unknown/Other",
          "Unknown/Other",
          "Unknown/Other",
          "Emergency Shelter",
          "Emergency Shelter",
          "Transitional Housing",
          "Transitional Housing",
          "Transitional Housing",
          "Transitional Housing",
          "Transitional Housing",
          "Transitional Housing",
          "Transitional Housing",
          "Transitional Housing",
          "Transitional Housing",
          "Transitional Housing",
          "Transitional Housing",
          "Emergency Shelter",
          "Emergency Shelter",
          "Emergency Shelter",
          "Emergency Shelter",
          "Temporary Exit",
          "Temporary Exit",
          "Emergency Shelter",
          "Emergency Shelter",
          "Emergency Shelter",
          "Emergency Shelter",
          "Permanent Exit",
          "Permanent Exit",
          "Permanent Exit",
          "Permanent Exit",
          "Permanent Exit",
          "Permanent Exit",
          "Permanent Exit",
          "Permanent Exit",
          "Permanent Exit",
          "Unknown/Other",
          "Unknown/Other",
          "Emergency Shelter",
          "Emergency Shelter",
          "Emergency Shelter",
          "Emergency Shelter",
          "Permanent Exit",
          "Permanent Exit",
          "Permanent Exit",
          "Permanent Exit",
          "Permanent Exit",
          "Permanent Exit",
          "Permanent Exit",
          "Permanent Exit",
          "Permanent Exit",
          "Permanent Exit",
          "Permanent Exit",
          "Temporary Exit",
          "Temporary Exit",
          "Permanent Exit",
          "Permanent Exit",
          "Emergency Shelter",
          "Emergency Shelter",
          "Emergency Shelter",
          "Unknown/Other",
          "Unknown/Other",
          "Unknown/Other",
          "Unknown/Other",
          "Permanent Exit",
          "Permanent Exit",
          "Permanent Exit",
          "Unknown/Other",
          "Unknown/Other",
          "Emergency Shelter",
          "Transitional Housing",
          "Transitional Housing",
          "Emergency Shelter",
          "Emergency Shelter",
          "Emergency Shelter",
          "Emergency Shelter",
          "Emergency Shelter",
          "Emergency Shelter",
          "Emergency Shelter",
          "Emergency Shelter",
          "Emergency Shelter",
          "Emergency Shelter",
          "Emergency Shelter",
          "Emergency Shelter",
          "Permanent Exit",
          "Emergency Shelter",
          "Emergency Shelter",
          "Emergency Shelter",
          "Unknown/Other",
          "Unknown/Other",
          "Permanent Exit",
          "Permanent Exit",
          "Permanent Exit",
          "Unknown/Other",
          "Unknown/Other",
          "Unknown/Other",
          "Unknown/Other",
          "Unknown/Other",
          "Unknown/Other",
          "Permanent Exit",
          "Permanent Exit",
          "Permanent Exit",
          "Permanent Exit",
          "Permanent Exit",
          "Permanent Exit",
          "Permanent Exit",
          "Permanent Exit",
          "Permanent Exit",
          "Unknown/Other",
          "Unknown/Other",
          "Permanent Exit",
          "Unknown/Other",
          "Unknown/Other",
          "Unknown/Other",
          "Unknown/Other",
          "Unknown/Other",
          "Unknown/Other",
          "Unknown/Other",
          "Emergency Shelter",
          "Emergency Shelter",
          "Unknown/Other",
          "Permanent Exit",
          "Temporary Exit",
          "Temporary Exit",
          "Temporary Exit",
          "Temporary Exit",
          "Temporary Exit",
          "Emergency Shelter",
          "Emergency Shelter",
          "Emergency Shelter",
          "Emergency Shelter",
          "Emergency Shelter",
          "Emergency Shelter",
          "Emergency Shelter",
          "Emergency Shelter",
          "Temporary Exit",
          "Temporary Exit",
          "Emergency Shelter",
          "Emergency Shelter",
          "Emergency Shelter",
          "Emergency Shelter",
          "Permanent Exit",
          "Permanent Exit",
          "Permanent Exit",
          "Permanent Exit",
          "Permanent Exit",
          "Permanent Exit",
          "Permanent Exit",
          "Permanent Exit",
          "Emergency Shelter",
          "Emergency Shelter",
          "Emergency Shelter",
          "Emergency Shelter",
          "Permanent Exit",
          "Permanent Exit",
          "Permanent Exit",
          "Permanent Exit",
          "Emergency Shelter",
          "Emergency Shelter",
          "Permanent Exit",
          "Permanent Exit",
          "Permanent Exit",
          "Permanent Exit",
          "Permanent Exit",
          "Unknown/Other",
          "Unknown/Other",
          "Unknown/Other",
          "Emergency Shelter",
          "Temporary Exit",
          "Emergency Shelter",
          "Emergency Shelter",
          "Emergency Shelter",
          "Emergency Shelter",
          "Emergency Shelter",
          "Permanent Exit",
          "Permanent Exit",
          "Emergency Shelter",
          "Permanent Exit",
          "Permanent Exit",
          "Permanent Exit",
          "Permanent Exit",
          "Permanent Exit",
          "Permanent Exit",
          "Permanent Exit",
          "Permanent Exit",
          "Emergency Shelter",
          "Emergency Shelter",
          "Emergency Shelter",
          "Emergency Shelter",
          "Emergency Shelter",
          "Emergency Shelter",
          "Emergency Shelter",
          "Emergency Shelter",
          "Emergency Shelter",
          "Emergency Shelter",
          "Unknown/Other",
          "Unknown/Other",
          "Unknown/Other",
          "Unknown/Other",
          "Unknown/Other",
          "Unknown/Other",
          "Temporary Exit",
          "Temporary Exit",
          "Temporary Exit",
          "Temporary Exit",
          "Emergency Shelter",
          "Emergency Shelter",
          "Emergency Shelter",
          "Transitional Housing",
          "Transitional Housing",
          "Transitional Housing",
          "Transitional Housing",
          "Emergency Shelter",
          "Emergency Shelter",
          "Emergency Shelter",
          "Permanent Exit",
          "Permanent Exit",
          "Permanent Exit",
          "Permanent Exit",
          "Permanent Exit",
          "Permanent Exit",
          "Unknown/Other",
          "Unknown/Other",
          "Unknown/Other",
          "Permanent Exit",
          "Permanent Exit",
          "Permanent Exit",
          "Permanent Exit",
          "Permanent Exit",
          "Permanent Exit",
          "Unknown/Other",
          "Unknown/Other",
          "Unknown/Other",
          "Unknown/Other",
          "Emergency Shelter",
          "Emergency Shelter",
          "Unknown/Other",
          "Unknown/Other",
          "Permanent Exit",
          "Permanent Exit",
          "Permanent Exit",
          "Permanent Exit",
          "Permanent Exit",
          "Emergency Shelter",
          "Emergency Shelter",
          "Temporary Exit",
          "Temporary Exit",
          "Temporary Exit",
          "Temporary Exit",
          "Transitional Housing",
          "Unknown/Other",
          "Temporary Exit",
          "Temporary Exit",
          "Temporary Exit",
          "Unknown/Other",
          "Unknown/Other",
          "Unknown/Other",
          "Emergency Shelter",
          "Emergency Shelter",
          "Emergency Shelter",
          "Emergency Shelter",
          "Emergency Shelter",
          "Emergency Shelter",
          "Emergency Shelter",
          "Emergency Shelter",
          "Unknown/Other",
          "Unknown/Other",
          "Unknown/Other",
          "Permanent Exit",
          "Permanent Exit",
          "Permanent Exit",
          "Permanent Exit",
          "Unknown/Other",
          "Unknown/Other",
          "Unknown/Other",
          "Unknown/Other",
          "Unknown/Other",
          "Temporary Exit",
          "Temporary Exit",
          "Temporary Exit",
          "Temporary Exit",
          "Temporary Exit",
          "Temporary Exit",
          "Temporary Exit",
          "Permanent Exit",
          "Permanent Exit",
          "Permanent Exit",
          "Transitional Housing",
          "Transitional Housing",
          "Transitional Housing",
          "Transitional Housing",
          "Transitional Housing",
          "Emergency Shelter",
          "Emergency Shelter",
          "Emergency Shelter"
         ],
         "legendgroup": "",
         "marker": {
          "colors": [
           "#AB63FA",
           "#AB63FA",
           "#636EFA",
           "#636EFA",
           "#636EFA",
           "#636EFA",
           "#636EFA",
           "#636EFA",
           "#636EFA",
           "#636EFA",
           "#636EFA",
           "#636EFA",
           "#636EFA",
           "#636EFA",
           "#636EFA",
           "#636EFA",
           "#636EFA",
           "#636EFA",
           "#636EFA",
           "#AB63FA",
           "#AB63FA",
           "#636EFA",
           "#636EFA",
           "#636EFA",
           "#636EFA",
           "#636EFA",
           "#636EFA",
           "#636EFA",
           "#636EFA",
           "#636EFA",
           "#636EFA",
           "#636EFA",
           "#636EFA",
           "#636EFA",
           "#636EFA",
           "#EF553B",
           "#EF553B",
           "#EF553B",
           "#AB63FA",
           "#636EFA",
           "#636EFA",
           "#636EFA",
           "#636EFA",
           "#636EFA",
           "#636EFA",
           "#AB63FA",
           "#AB63FA",
           "#AB63FA",
           "#AB63FA",
           "#636EFA",
           "#636EFA",
           "#636EFA",
           "#636EFA",
           "#AB63FA",
           "#AB63FA",
           "#AB63FA",
           "#AB63FA",
           "#636EFA",
           "#636EFA",
           "#636EFA",
           "#AB63FA",
           "#AB63FA",
           "#00CC96",
           "#FFA15A",
           "#FFA15A",
           "#FFA15A",
           "#FFA15A",
           "#FFA15A",
           "#FFA15A",
           "#FFA15A",
           "#FFA15A",
           "#FFA15A",
           "#FFA15A",
           "#FFA15A",
           "#AB63FA",
           "#AB63FA",
           "#00CC96",
           "#00CC96",
           "#00CC96",
           "#00CC96",
           "#00CC96",
           "#00CC96",
           "#00CC96",
           "#00CC96",
           "#00CC96",
           "#00CC96",
           "#00CC96",
           "#AB63FA",
           "#AB63FA",
           "#AB63FA",
           "#AB63FA",
           "#EF553B",
           "#EF553B",
           "#AB63FA",
           "#AB63FA",
           "#AB63FA",
           "#AB63FA",
           "#636EFA",
           "#636EFA",
           "#636EFA",
           "#636EFA",
           "#636EFA",
           "#636EFA",
           "#636EFA",
           "#636EFA",
           "#636EFA",
           "#FFA15A",
           "#FFA15A",
           "#AB63FA",
           "#AB63FA",
           "#AB63FA",
           "#AB63FA",
           "#636EFA",
           "#636EFA",
           "#636EFA",
           "#636EFA",
           "#636EFA",
           "#636EFA",
           "#636EFA",
           "#636EFA",
           "#636EFA",
           "#636EFA",
           "#636EFA",
           "#EF553B",
           "#EF553B",
           "#636EFA",
           "#636EFA",
           "#AB63FA",
           "#AB63FA",
           "#AB63FA",
           "#FFA15A",
           "#FFA15A",
           "#FFA15A",
           "#FFA15A",
           "#636EFA",
           "#636EFA",
           "#636EFA",
           "#FFA15A",
           "#FFA15A",
           "#AB63FA",
           "#00CC96",
           "#00CC96",
           "#AB63FA",
           "#AB63FA",
           "#AB63FA",
           "#AB63FA",
           "#AB63FA",
           "#AB63FA",
           "#AB63FA",
           "#AB63FA",
           "#AB63FA",
           "#AB63FA",
           "#AB63FA",
           "#AB63FA",
           "#636EFA",
           "#AB63FA",
           "#AB63FA",
           "#AB63FA",
           "#FFA15A",
           "#FFA15A",
           "#636EFA",
           "#636EFA",
           "#636EFA",
           "#FFA15A",
           "#FFA15A",
           "#FFA15A",
           "#FFA15A",
           "#FFA15A",
           "#FFA15A",
           "#636EFA",
           "#636EFA",
           "#636EFA",
           "#636EFA",
           "#636EFA",
           "#636EFA",
           "#636EFA",
           "#636EFA",
           "#636EFA",
           "#FFA15A",
           "#FFA15A",
           "#636EFA",
           "#FFA15A",
           "#FFA15A",
           "#FFA15A",
           "#FFA15A",
           "#FFA15A",
           "#FFA15A",
           "#FFA15A",
           "#AB63FA",
           "#AB63FA",
           "#FFA15A",
           "#636EFA",
           "#EF553B",
           "#EF553B",
           "#EF553B",
           "#EF553B",
           "#EF553B",
           "#AB63FA",
           "#AB63FA",
           "#AB63FA",
           "#AB63FA",
           "#AB63FA",
           "#AB63FA",
           "#AB63FA",
           "#AB63FA",
           "#EF553B",
           "#EF553B",
           "#AB63FA",
           "#AB63FA",
           "#AB63FA",
           "#AB63FA",
           "#636EFA",
           "#636EFA",
           "#636EFA",
           "#636EFA",
           "#636EFA",
           "#636EFA",
           "#636EFA",
           "#636EFA",
           "#AB63FA",
           "#AB63FA",
           "#AB63FA",
           "#AB63FA",
           "#636EFA",
           "#636EFA",
           "#636EFA",
           "#636EFA",
           "#AB63FA",
           "#AB63FA",
           "#636EFA",
           "#636EFA",
           "#636EFA",
           "#636EFA",
           "#636EFA",
           "#FFA15A",
           "#FFA15A",
           "#FFA15A",
           "#AB63FA",
           "#EF553B",
           "#AB63FA",
           "#AB63FA",
           "#AB63FA",
           "#AB63FA",
           "#AB63FA",
           "#636EFA",
           "#636EFA",
           "#AB63FA",
           "#636EFA",
           "#636EFA",
           "#636EFA",
           "#636EFA",
           "#636EFA",
           "#636EFA",
           "#636EFA",
           "#636EFA",
           "#AB63FA",
           "#AB63FA",
           "#AB63FA",
           "#AB63FA",
           "#AB63FA",
           "#AB63FA",
           "#AB63FA",
           "#AB63FA",
           "#AB63FA",
           "#AB63FA",
           "#FFA15A",
           "#FFA15A",
           "#FFA15A",
           "#FFA15A",
           "#FFA15A",
           "#FFA15A",
           "#EF553B",
           "#EF553B",
           "#EF553B",
           "#EF553B",
           "#AB63FA",
           "#AB63FA",
           "#AB63FA",
           "#00CC96",
           "#00CC96",
           "#00CC96",
           "#00CC96",
           "#AB63FA",
           "#AB63FA",
           "#AB63FA",
           "#636EFA",
           "#636EFA",
           "#636EFA",
           "#636EFA",
           "#636EFA",
           "#636EFA",
           "#FFA15A",
           "#FFA15A",
           "#FFA15A",
           "#636EFA",
           "#636EFA",
           "#636EFA",
           "#636EFA",
           "#636EFA",
           "#636EFA",
           "#FFA15A",
           "#FFA15A",
           "#FFA15A",
           "#FFA15A",
           "#AB63FA",
           "#AB63FA",
           "#FFA15A",
           "#FFA15A",
           "#636EFA",
           "#636EFA",
           "#636EFA",
           "#636EFA",
           "#636EFA",
           "#AB63FA",
           "#AB63FA",
           "#EF553B",
           "#EF553B",
           "#EF553B",
           "#EF553B",
           "#00CC96",
           "#FFA15A",
           "#EF553B",
           "#EF553B",
           "#EF553B",
           "#FFA15A",
           "#FFA15A",
           "#FFA15A",
           "#AB63FA",
           "#AB63FA",
           "#AB63FA",
           "#AB63FA",
           "#AB63FA",
           "#AB63FA",
           "#AB63FA",
           "#AB63FA",
           "#FFA15A",
           "#FFA15A",
           "#FFA15A",
           "#636EFA",
           "#636EFA",
           "#636EFA",
           "#636EFA",
           "#FFA15A",
           "#FFA15A",
           "#FFA15A",
           "#FFA15A",
           "#FFA15A",
           "#EF553B",
           "#EF553B",
           "#EF553B",
           "#EF553B",
           "#EF553B",
           "#EF553B",
           "#EF553B",
           "#636EFA",
           "#636EFA",
           "#636EFA",
           "#00CC96",
           "#00CC96",
           "#00CC96",
           "#00CC96",
           "#00CC96",
           "#AB63FA",
           "#AB63FA",
           "#AB63FA"
          ]
         },
         "name": "",
         "showlegend": true,
         "type": "pie",
         "values": [
          1,
          1,
          1,
          1,
          1,
          1,
          1,
          1,
          1,
          1,
          1,
          1,
          1,
          1,
          1,
          1,
          1,
          1,
          1,
          1,
          1,
          1,
          1,
          1,
          1,
          1,
          1,
          1,
          1,
          1,
          1,
          1,
          1,
          1,
          1,
          1,
          1,
          1,
          1,
          1,
          1,
          1,
          1,
          1,
          1,
          1,
          1,
          1,
          1,
          1,
          1,
          1,
          1,
          1,
          1,
          1,
          1,
          1,
          1,
          1,
          1,
          1,
          1,
          1,
          1,
          1,
          1,
          1,
          1,
          1,
          1,
          1,
          1,
          1,
          1,
          1,
          1,
          1,
          1,
          1,
          1,
          1,
          1,
          1,
          1,
          1,
          1,
          1,
          1,
          1,
          1,
          1,
          1,
          1,
          1,
          1,
          1,
          1,
          1,
          1,
          1,
          1,
          1,
          1,
          1,
          1,
          1,
          1,
          1,
          1,
          1,
          1,
          1,
          1,
          1,
          1,
          1,
          1,
          1,
          1,
          1,
          1,
          1,
          1,
          1,
          1,
          1,
          1,
          1,
          1,
          1,
          1,
          1,
          1,
          1,
          1,
          1,
          1,
          1,
          1,
          1,
          1,
          1,
          1,
          1,
          1,
          1,
          1,
          1,
          1,
          1,
          1,
          1,
          1,
          1,
          1,
          1,
          1,
          1,
          1,
          1,
          1,
          1,
          1,
          1,
          1,
          1,
          1,
          1,
          1,
          1,
          1,
          1,
          1,
          1,
          1,
          1,
          1,
          1,
          1,
          1,
          1,
          1,
          1,
          1,
          1,
          1,
          1,
          1,
          1,
          1,
          1,
          1,
          1,
          1,
          1,
          1,
          1,
          1,
          1,
          1,
          1,
          1,
          1,
          1,
          1,
          1,
          1,
          1,
          1,
          1,
          1,
          1,
          1,
          1,
          1,
          1,
          1,
          1,
          1,
          1,
          1,
          1,
          1,
          1,
          1,
          1,
          1,
          1,
          1,
          1,
          1,
          1,
          1,
          1,
          1,
          1,
          1,
          1,
          1,
          1,
          1,
          1,
          1,
          1,
          1,
          1,
          1,
          1,
          1,
          1,
          1,
          1,
          1,
          1,
          1,
          1,
          1,
          1,
          1,
          1,
          1,
          1,
          1,
          1,
          1,
          1,
          1,
          1,
          1,
          1,
          1,
          1,
          1,
          1,
          1,
          1,
          1,
          1,
          1,
          1,
          1,
          1,
          1,
          1,
          1,
          1,
          1,
          1,
          1,
          1,
          1,
          1,
          1,
          1,
          1,
          1,
          1,
          1,
          1,
          1,
          1,
          1,
          1,
          1,
          1,
          1,
          1,
          1,
          1,
          1,
          1,
          1,
          1,
          1,
          1,
          1,
          1,
          1,
          1,
          1,
          1,
          1,
          1,
          1,
          1,
          1,
          1,
          1,
          1,
          1,
          1,
          1,
          1,
          1,
          1,
          1,
          1,
          1,
          1,
          1,
          1,
          1,
          1,
          1,
          1,
          1,
          1,
          1,
          1,
          1,
          1,
          1,
          1,
          1,
          1,
          1,
          1,
          1,
          1,
          1,
          1,
          1,
          1,
          1
         ]
        }
       ],
       "layout": {
        "legend": {
         "tracegroupgap": 0
        },
        "margin": {
         "t": 60
        },
        "template": {
         "data": {
          "bar": [
           {
            "error_x": {
             "color": "#2a3f5f"
            },
            "error_y": {
             "color": "#2a3f5f"
            },
            "marker": {
             "line": {
              "color": "#E5ECF6",
              "width": 0.5
             }
            },
            "type": "bar"
           }
          ],
          "barpolar": [
           {
            "marker": {
             "line": {
              "color": "#E5ECF6",
              "width": 0.5
             }
            },
            "type": "barpolar"
           }
          ],
          "carpet": [
           {
            "aaxis": {
             "endlinecolor": "#2a3f5f",
             "gridcolor": "white",
             "linecolor": "white",
             "minorgridcolor": "white",
             "startlinecolor": "#2a3f5f"
            },
            "baxis": {
             "endlinecolor": "#2a3f5f",
             "gridcolor": "white",
             "linecolor": "white",
             "minorgridcolor": "white",
             "startlinecolor": "#2a3f5f"
            },
            "type": "carpet"
           }
          ],
          "choropleth": [
           {
            "colorbar": {
             "outlinewidth": 0,
             "ticks": ""
            },
            "type": "choropleth"
           }
          ],
          "contour": [
           {
            "colorbar": {
             "outlinewidth": 0,
             "ticks": ""
            },
            "colorscale": [
             [
              0,
              "#0d0887"
             ],
             [
              0.1111111111111111,
              "#46039f"
             ],
             [
              0.2222222222222222,
              "#7201a8"
             ],
             [
              0.3333333333333333,
              "#9c179e"
             ],
             [
              0.4444444444444444,
              "#bd3786"
             ],
             [
              0.5555555555555556,
              "#d8576b"
             ],
             [
              0.6666666666666666,
              "#ed7953"
             ],
             [
              0.7777777777777778,
              "#fb9f3a"
             ],
             [
              0.8888888888888888,
              "#fdca26"
             ],
             [
              1,
              "#f0f921"
             ]
            ],
            "type": "contour"
           }
          ],
          "contourcarpet": [
           {
            "colorbar": {
             "outlinewidth": 0,
             "ticks": ""
            },
            "type": "contourcarpet"
           }
          ],
          "heatmap": [
           {
            "colorbar": {
             "outlinewidth": 0,
             "ticks": ""
            },
            "colorscale": [
             [
              0,
              "#0d0887"
             ],
             [
              0.1111111111111111,
              "#46039f"
             ],
             [
              0.2222222222222222,
              "#7201a8"
             ],
             [
              0.3333333333333333,
              "#9c179e"
             ],
             [
              0.4444444444444444,
              "#bd3786"
             ],
             [
              0.5555555555555556,
              "#d8576b"
             ],
             [
              0.6666666666666666,
              "#ed7953"
             ],
             [
              0.7777777777777778,
              "#fb9f3a"
             ],
             [
              0.8888888888888888,
              "#fdca26"
             ],
             [
              1,
              "#f0f921"
             ]
            ],
            "type": "heatmap"
           }
          ],
          "heatmapgl": [
           {
            "colorbar": {
             "outlinewidth": 0,
             "ticks": ""
            },
            "colorscale": [
             [
              0,
              "#0d0887"
             ],
             [
              0.1111111111111111,
              "#46039f"
             ],
             [
              0.2222222222222222,
              "#7201a8"
             ],
             [
              0.3333333333333333,
              "#9c179e"
             ],
             [
              0.4444444444444444,
              "#bd3786"
             ],
             [
              0.5555555555555556,
              "#d8576b"
             ],
             [
              0.6666666666666666,
              "#ed7953"
             ],
             [
              0.7777777777777778,
              "#fb9f3a"
             ],
             [
              0.8888888888888888,
              "#fdca26"
             ],
             [
              1,
              "#f0f921"
             ]
            ],
            "type": "heatmapgl"
           }
          ],
          "histogram": [
           {
            "marker": {
             "colorbar": {
              "outlinewidth": 0,
              "ticks": ""
             }
            },
            "type": "histogram"
           }
          ],
          "histogram2d": [
           {
            "colorbar": {
             "outlinewidth": 0,
             "ticks": ""
            },
            "colorscale": [
             [
              0,
              "#0d0887"
             ],
             [
              0.1111111111111111,
              "#46039f"
             ],
             [
              0.2222222222222222,
              "#7201a8"
             ],
             [
              0.3333333333333333,
              "#9c179e"
             ],
             [
              0.4444444444444444,
              "#bd3786"
             ],
             [
              0.5555555555555556,
              "#d8576b"
             ],
             [
              0.6666666666666666,
              "#ed7953"
             ],
             [
              0.7777777777777778,
              "#fb9f3a"
             ],
             [
              0.8888888888888888,
              "#fdca26"
             ],
             [
              1,
              "#f0f921"
             ]
            ],
            "type": "histogram2d"
           }
          ],
          "histogram2dcontour": [
           {
            "colorbar": {
             "outlinewidth": 0,
             "ticks": ""
            },
            "colorscale": [
             [
              0,
              "#0d0887"
             ],
             [
              0.1111111111111111,
              "#46039f"
             ],
             [
              0.2222222222222222,
              "#7201a8"
             ],
             [
              0.3333333333333333,
              "#9c179e"
             ],
             [
              0.4444444444444444,
              "#bd3786"
             ],
             [
              0.5555555555555556,
              "#d8576b"
             ],
             [
              0.6666666666666666,
              "#ed7953"
             ],
             [
              0.7777777777777778,
              "#fb9f3a"
             ],
             [
              0.8888888888888888,
              "#fdca26"
             ],
             [
              1,
              "#f0f921"
             ]
            ],
            "type": "histogram2dcontour"
           }
          ],
          "mesh3d": [
           {
            "colorbar": {
             "outlinewidth": 0,
             "ticks": ""
            },
            "type": "mesh3d"
           }
          ],
          "parcoords": [
           {
            "line": {
             "colorbar": {
              "outlinewidth": 0,
              "ticks": ""
             }
            },
            "type": "parcoords"
           }
          ],
          "pie": [
           {
            "automargin": true,
            "type": "pie"
           }
          ],
          "scatter": [
           {
            "marker": {
             "colorbar": {
              "outlinewidth": 0,
              "ticks": ""
             }
            },
            "type": "scatter"
           }
          ],
          "scatter3d": [
           {
            "line": {
             "colorbar": {
              "outlinewidth": 0,
              "ticks": ""
             }
            },
            "marker": {
             "colorbar": {
              "outlinewidth": 0,
              "ticks": ""
             }
            },
            "type": "scatter3d"
           }
          ],
          "scattercarpet": [
           {
            "marker": {
             "colorbar": {
              "outlinewidth": 0,
              "ticks": ""
             }
            },
            "type": "scattercarpet"
           }
          ],
          "scattergeo": [
           {
            "marker": {
             "colorbar": {
              "outlinewidth": 0,
              "ticks": ""
             }
            },
            "type": "scattergeo"
           }
          ],
          "scattergl": [
           {
            "marker": {
             "colorbar": {
              "outlinewidth": 0,
              "ticks": ""
             }
            },
            "type": "scattergl"
           }
          ],
          "scattermapbox": [
           {
            "marker": {
             "colorbar": {
              "outlinewidth": 0,
              "ticks": ""
             }
            },
            "type": "scattermapbox"
           }
          ],
          "scatterpolar": [
           {
            "marker": {
             "colorbar": {
              "outlinewidth": 0,
              "ticks": ""
             }
            },
            "type": "scatterpolar"
           }
          ],
          "scatterpolargl": [
           {
            "marker": {
             "colorbar": {
              "outlinewidth": 0,
              "ticks": ""
             }
            },
            "type": "scatterpolargl"
           }
          ],
          "scatterternary": [
           {
            "marker": {
             "colorbar": {
              "outlinewidth": 0,
              "ticks": ""
             }
            },
            "type": "scatterternary"
           }
          ],
          "surface": [
           {
            "colorbar": {
             "outlinewidth": 0,
             "ticks": ""
            },
            "colorscale": [
             [
              0,
              "#0d0887"
             ],
             [
              0.1111111111111111,
              "#46039f"
             ],
             [
              0.2222222222222222,
              "#7201a8"
             ],
             [
              0.3333333333333333,
              "#9c179e"
             ],
             [
              0.4444444444444444,
              "#bd3786"
             ],
             [
              0.5555555555555556,
              "#d8576b"
             ],
             [
              0.6666666666666666,
              "#ed7953"
             ],
             [
              0.7777777777777778,
              "#fb9f3a"
             ],
             [
              0.8888888888888888,
              "#fdca26"
             ],
             [
              1,
              "#f0f921"
             ]
            ],
            "type": "surface"
           }
          ],
          "table": [
           {
            "cells": {
             "fill": {
              "color": "#EBF0F8"
             },
             "line": {
              "color": "white"
             }
            },
            "header": {
             "fill": {
              "color": "#C8D4E3"
             },
             "line": {
              "color": "white"
             }
            },
            "type": "table"
           }
          ]
         },
         "layout": {
          "annotationdefaults": {
           "arrowcolor": "#2a3f5f",
           "arrowhead": 0,
           "arrowwidth": 1
          },
          "autotypenumbers": "strict",
          "coloraxis": {
           "colorbar": {
            "outlinewidth": 0,
            "ticks": ""
           }
          },
          "colorscale": {
           "diverging": [
            [
             0,
             "#8e0152"
            ],
            [
             0.1,
             "#c51b7d"
            ],
            [
             0.2,
             "#de77ae"
            ],
            [
             0.3,
             "#f1b6da"
            ],
            [
             0.4,
             "#fde0ef"
            ],
            [
             0.5,
             "#f7f7f7"
            ],
            [
             0.6,
             "#e6f5d0"
            ],
            [
             0.7,
             "#b8e186"
            ],
            [
             0.8,
             "#7fbc41"
            ],
            [
             0.9,
             "#4d9221"
            ],
            [
             1,
             "#276419"
            ]
           ],
           "sequential": [
            [
             0,
             "#0d0887"
            ],
            [
             0.1111111111111111,
             "#46039f"
            ],
            [
             0.2222222222222222,
             "#7201a8"
            ],
            [
             0.3333333333333333,
             "#9c179e"
            ],
            [
             0.4444444444444444,
             "#bd3786"
            ],
            [
             0.5555555555555556,
             "#d8576b"
            ],
            [
             0.6666666666666666,
             "#ed7953"
            ],
            [
             0.7777777777777778,
             "#fb9f3a"
            ],
            [
             0.8888888888888888,
             "#fdca26"
            ],
            [
             1,
             "#f0f921"
            ]
           ],
           "sequentialminus": [
            [
             0,
             "#0d0887"
            ],
            [
             0.1111111111111111,
             "#46039f"
            ],
            [
             0.2222222222222222,
             "#7201a8"
            ],
            [
             0.3333333333333333,
             "#9c179e"
            ],
            [
             0.4444444444444444,
             "#bd3786"
            ],
            [
             0.5555555555555556,
             "#d8576b"
            ],
            [
             0.6666666666666666,
             "#ed7953"
            ],
            [
             0.7777777777777778,
             "#fb9f3a"
            ],
            [
             0.8888888888888888,
             "#fdca26"
            ],
            [
             1,
             "#f0f921"
            ]
           ]
          },
          "colorway": [
           "#636efa",
           "#EF553B",
           "#00cc96",
           "#ab63fa",
           "#FFA15A",
           "#19d3f3",
           "#FF6692",
           "#B6E880",
           "#FF97FF",
           "#FECB52"
          ],
          "font": {
           "color": "#2a3f5f"
          },
          "geo": {
           "bgcolor": "white",
           "lakecolor": "white",
           "landcolor": "#E5ECF6",
           "showlakes": true,
           "showland": true,
           "subunitcolor": "white"
          },
          "hoverlabel": {
           "align": "left"
          },
          "hovermode": "closest",
          "mapbox": {
           "style": "light"
          },
          "paper_bgcolor": "white",
          "plot_bgcolor": "#E5ECF6",
          "polar": {
           "angularaxis": {
            "gridcolor": "white",
            "linecolor": "white",
            "ticks": ""
           },
           "bgcolor": "#E5ECF6",
           "radialaxis": {
            "gridcolor": "white",
            "linecolor": "white",
            "ticks": ""
           }
          },
          "scene": {
           "xaxis": {
            "backgroundcolor": "#E5ECF6",
            "gridcolor": "white",
            "gridwidth": 2,
            "linecolor": "white",
            "showbackground": true,
            "ticks": "",
            "zerolinecolor": "white"
           },
           "yaxis": {
            "backgroundcolor": "#E5ECF6",
            "gridcolor": "white",
            "gridwidth": 2,
            "linecolor": "white",
            "showbackground": true,
            "ticks": "",
            "zerolinecolor": "white"
           },
           "zaxis": {
            "backgroundcolor": "#E5ECF6",
            "gridcolor": "white",
            "gridwidth": 2,
            "linecolor": "white",
            "showbackground": true,
            "ticks": "",
            "zerolinecolor": "white"
           }
          },
          "shapedefaults": {
           "line": {
            "color": "#2a3f5f"
           }
          },
          "ternary": {
           "aaxis": {
            "gridcolor": "white",
            "linecolor": "white",
            "ticks": ""
           },
           "baxis": {
            "gridcolor": "white",
            "linecolor": "white",
            "ticks": ""
           },
           "bgcolor": "#E5ECF6",
           "caxis": {
            "gridcolor": "white",
            "linecolor": "white",
            "ticks": ""
           }
          },
          "title": {
           "x": 0.05
          },
          "xaxis": {
           "automargin": true,
           "gridcolor": "white",
           "linecolor": "white",
           "ticks": "",
           "title": {
            "standoff": 15
           },
           "zerolinecolor": "white",
           "zerolinewidth": 2
          },
          "yaxis": {
           "automargin": true,
           "gridcolor": "white",
           "linecolor": "white",
           "ticks": "",
           "title": {
            "standoff": 15
           },
           "zerolinecolor": "white",
           "zerolinewidth": 2
          }
         }
        }
       }
      }
     },
     "metadata": {}
    }
   ],
   "source": [
    "plot_exit_pie(session, 365).show()"
   ]
  },
  {
   "cell_type": "code",
   "execution_count": 4,
   "metadata": {},
   "outputs": [
    {
     "output_type": "display_data",
     "data": {
      "application/vnd.plotly.v1+json": {
       "config": {
        "plotlyServerURL": "https://plot.ly"
       },
       "data": [
        {
         "hovertemplate": "variable=Permanent Exit<br>date=%{x}<br>proportion=%{y}<extra></extra>",
         "legendgroup": "Permanent Exit",
         "line": {
          "color": "#636efa",
          "dash": "solid"
         },
         "mode": "lines",
         "name": "Permanent Exit",
         "orientation": "v",
         "showlegend": true,
         "type": "scatter",
         "x": [
          "2020-08-28",
          "2020-08-26",
          "2020-08-24",
          "2020-08-22",
          "2020-08-20",
          "2020-08-18",
          "2020-08-16",
          "2020-08-14",
          "2020-08-12",
          "2020-08-10",
          "2020-08-08",
          "2020-08-06",
          "2020-08-04",
          "2020-08-02",
          "2020-07-31",
          "2020-07-29",
          "2020-07-27",
          "2020-07-25",
          "2020-07-23",
          "2020-07-21",
          "2020-07-19",
          "2020-07-17",
          "2020-07-15",
          "2020-07-13",
          "2020-07-11",
          "2020-07-09",
          "2020-07-07",
          "2020-07-05",
          "2020-07-03",
          "2020-07-01",
          "2020-06-29",
          "2020-06-27",
          "2020-06-25",
          "2020-06-23",
          "2020-06-21",
          "2020-06-19",
          "2020-06-17",
          "2020-06-15",
          "2020-06-13",
          "2020-06-11",
          "2020-06-09",
          "2020-06-07",
          "2020-06-05",
          "2020-06-03",
          "2020-06-01",
          "2020-05-30",
          "2020-05-28",
          "2020-05-26",
          "2020-05-24",
          "2020-05-22",
          "2020-05-20",
          "2020-05-18",
          "2020-05-16",
          "2020-05-14",
          "2020-05-12",
          "2020-05-10",
          "2020-05-08",
          "2020-05-06",
          "2020-05-04",
          "2020-05-02",
          "2020-04-30",
          "2020-04-28",
          "2020-04-26",
          "2020-04-24",
          "2020-04-22",
          "2020-04-20",
          "2020-04-18",
          "2020-04-16",
          "2020-04-14",
          "2020-04-12",
          "2020-04-10",
          "2020-04-08",
          "2020-04-06",
          "2020-04-04",
          "2020-04-02",
          "2020-03-31",
          "2020-03-29",
          "2020-03-27",
          "2020-03-25",
          "2020-03-23",
          "2020-03-21",
          "2020-03-19",
          "2020-03-17",
          "2020-03-15",
          "2020-03-13",
          "2020-03-11",
          "2020-03-09",
          "2020-03-07",
          "2020-03-05",
          "2020-03-03"
         ],
         "xaxis": "x",
         "y": [
          0.3230769230769231,
          0.35294117647058826,
          0.35294117647058826,
          0.3673469387755102,
          0.36363636363636365,
          0.42857142857142855,
          0.4883720930232558,
          0.4883720930232558,
          0.4883720930232558,
          0.5217391304347826,
          0.5217391304347826,
          0.5454545454545454,
          0.4897959183673469,
          0.4897959183673469,
          0.4897959183673469,
          0.4444444444444444,
          0.45454545454545453,
          0.46938775510204084,
          0.45098039215686275,
          0.45098039215686275,
          0.46938775510204084,
          0.46938775510204084,
          0.4166666666666667,
          0.375,
          0.375,
          0.375,
          0.36,
          0.33962264150943394,
          0.4262295081967213,
          0.4262295081967213,
          0.45614035087719296,
          0.45614035087719296,
          0.45614035087719296,
          0.4482758620689655,
          0.4642857142857143,
          0.4642857142857143,
          0.4642857142857143,
          0.4642857142857143,
          0.48936170212765956,
          0.48936170212765956,
          0.42592592592592593,
          0.43548387096774194,
          0.421875,
          0.421875,
          0.4520547945205479,
          0.42857142857142855,
          0.4666666666666667,
          0.4691358024691358,
          0.4691358024691358,
          0.4318181818181818,
          0.4186046511627907,
          0.4186046511627907,
          0.4,
          0.4,
          0.3793103448275862,
          0.3793103448275862,
          0.3793103448275862,
          0.449438202247191,
          0.449438202247191,
          0.4673913043478261,
          0.45,
          0.43859649122807015,
          0.42342342342342343,
          0.43119266055045874,
          0.44144144144144143,
          0.44144144144144143,
          0.44144144144144143,
          0.4375,
          0.44036697247706424,
          0.40336134453781514,
          0.4112903225806452,
          0.408,
          0.43089430894308944,
          0.392,
          0.392,
          0.3684210526315789,
          0.3684210526315789,
          0.3684210526315789,
          0.3712121212121212,
          0.3712121212121212,
          0.3602941176470588,
          0.35251798561151076,
          0.35251798561151076,
          0.3402777777777778,
          0.3402777777777778,
          0.35251798561151076,
          0.362962962962963,
          0.37681159420289856,
          0.36879432624113473,
          0.3484848484848485
         ],
         "yaxis": "y"
        },
        {
         "hovertemplate": "variable=Temporary Exit<br>date=%{x}<br>proportion=%{y}<extra></extra>",
         "legendgroup": "Temporary Exit",
         "line": {
          "color": "#EF553B",
          "dash": "solid"
         },
         "mode": "lines",
         "name": "Temporary Exit",
         "orientation": "v",
         "showlegend": true,
         "type": "scatter",
         "x": [
          "2020-08-28",
          "2020-08-26",
          "2020-08-24",
          "2020-08-22",
          "2020-08-20",
          "2020-08-18",
          "2020-08-16",
          "2020-08-14",
          "2020-08-12",
          "2020-08-10",
          "2020-08-08",
          "2020-08-06",
          "2020-08-04",
          "2020-08-02",
          "2020-07-31",
          "2020-07-29",
          "2020-07-27",
          "2020-07-25",
          "2020-07-23",
          "2020-07-21",
          "2020-07-19",
          "2020-07-17",
          "2020-07-15",
          "2020-07-13",
          "2020-07-11",
          "2020-07-09",
          "2020-07-07",
          "2020-07-05",
          "2020-07-03",
          "2020-07-01",
          "2020-06-29",
          "2020-06-27",
          "2020-06-25",
          "2020-06-23",
          "2020-06-21",
          "2020-06-19",
          "2020-06-17",
          "2020-06-15",
          "2020-06-13",
          "2020-06-11",
          "2020-06-09",
          "2020-06-07",
          "2020-06-05",
          "2020-06-03",
          "2020-06-01",
          "2020-05-30",
          "2020-05-28",
          "2020-05-26",
          "2020-05-24",
          "2020-05-22",
          "2020-05-20",
          "2020-05-18",
          "2020-05-16",
          "2020-05-14",
          "2020-05-12",
          "2020-05-10",
          "2020-05-08",
          "2020-05-06",
          "2020-05-04",
          "2020-05-02",
          "2020-04-30",
          "2020-04-28",
          "2020-04-26",
          "2020-04-24",
          "2020-04-22",
          "2020-04-20",
          "2020-04-18",
          "2020-04-16",
          "2020-04-14",
          "2020-04-12",
          "2020-04-10",
          "2020-04-08",
          "2020-04-06",
          "2020-04-04",
          "2020-04-02",
          "2020-03-31",
          "2020-03-29",
          "2020-03-27",
          "2020-03-25",
          "2020-03-23",
          "2020-03-21",
          "2020-03-19",
          "2020-03-17",
          "2020-03-15",
          "2020-03-13",
          "2020-03-11",
          "2020-03-09",
          "2020-03-07",
          "2020-03-05",
          "2020-03-03"
         ],
         "xaxis": "x",
         "y": [
          0.16923076923076924,
          0.21568627450980393,
          0.21568627450980393,
          0.22448979591836735,
          0.18181818181818182,
          0.16326530612244897,
          0.06976744186046512,
          0.06976744186046512,
          0.06976744186046512,
          0.06521739130434782,
          0.06521739130434782,
          0.06818181818181818,
          0.12244897959183673,
          0.12244897959183673,
          0.12244897959183673,
          0.13333333333333333,
          0.13636363636363635,
          0.12244897959183673,
          0.11764705882352941,
          0.11764705882352941,
          0.12244897959183673,
          0.12244897959183673,
          0.125,
          0.125,
          0.125,
          0.125,
          0.12,
          0.18867924528301888,
          0.16393442622950818,
          0.16393442622950818,
          0.17543859649122806,
          0.17543859649122806,
          0.17543859649122806,
          0.1896551724137931,
          0.19642857142857142,
          0.19642857142857142,
          0.19642857142857142,
          0.19642857142857142,
          0.1702127659574468,
          0.1702127659574468,
          0.14814814814814814,
          0.12903225806451613,
          0.125,
          0.125,
          0.1095890410958904,
          0.11428571428571428,
          0.10666666666666667,
          0.09876543209876543,
          0.09876543209876543,
          0.09090909090909091,
          0.09302325581395349,
          0.09302325581395349,
          0.08888888888888889,
          0.08888888888888889,
          0.09195402298850575,
          0.09195402298850575,
          0.09195402298850575,
          0.056179775280898875,
          0.056179775280898875,
          0.05434782608695652,
          0.05,
          0.043859649122807015,
          0.04504504504504504,
          0.045871559633027525,
          0.04504504504504504,
          0.04504504504504504,
          0.04504504504504504,
          0.044642857142857144,
          0.045871559633027525,
          0.04201680672268908,
          0.04032258064516129,
          0.04,
          0.008130081300813009,
          0.008,
          0.024,
          0.06015037593984962,
          0.06015037593984962,
          0.06015037593984962,
          0.05303030303030303,
          0.05303030303030303,
          0.051470588235294115,
          0.050359712230215826,
          0.050359712230215826,
          0.04861111111111111,
          0.04861111111111111,
          0.050359712230215826,
          0.05185185185185185,
          0.050724637681159424,
          0.04964539007092199,
          0.05303030303030303
         ],
         "yaxis": "y"
        },
        {
         "hovertemplate": "variable=Transitional Housing<br>date=%{x}<br>proportion=%{y}<extra></extra>",
         "legendgroup": "Transitional Housing",
         "line": {
          "color": "#00cc96",
          "dash": "solid"
         },
         "mode": "lines",
         "name": "Transitional Housing",
         "orientation": "v",
         "showlegend": true,
         "type": "scatter",
         "x": [
          "2020-08-28",
          "2020-08-26",
          "2020-08-24",
          "2020-08-22",
          "2020-08-20",
          "2020-08-18",
          "2020-08-16",
          "2020-08-14",
          "2020-08-12",
          "2020-08-10",
          "2020-08-08",
          "2020-08-06",
          "2020-08-04",
          "2020-08-02",
          "2020-07-31",
          "2020-07-29",
          "2020-07-27",
          "2020-07-25",
          "2020-07-23",
          "2020-07-21",
          "2020-07-19",
          "2020-07-17",
          "2020-07-15",
          "2020-07-13",
          "2020-07-11",
          "2020-07-09",
          "2020-07-07",
          "2020-07-05",
          "2020-07-03",
          "2020-07-01",
          "2020-06-29",
          "2020-06-27",
          "2020-06-25",
          "2020-06-23",
          "2020-06-21",
          "2020-06-19",
          "2020-06-17",
          "2020-06-15",
          "2020-06-13",
          "2020-06-11",
          "2020-06-09",
          "2020-06-07",
          "2020-06-05",
          "2020-06-03",
          "2020-06-01",
          "2020-05-30",
          "2020-05-28",
          "2020-05-26",
          "2020-05-24",
          "2020-05-22",
          "2020-05-20",
          "2020-05-18",
          "2020-05-16",
          "2020-05-14",
          "2020-05-12",
          "2020-05-10",
          "2020-05-08",
          "2020-05-06",
          "2020-05-04",
          "2020-05-02",
          "2020-04-30",
          "2020-04-28",
          "2020-04-26",
          "2020-04-24",
          "2020-04-22",
          "2020-04-20",
          "2020-04-18",
          "2020-04-16",
          "2020-04-14",
          "2020-04-12",
          "2020-04-10",
          "2020-04-08",
          "2020-04-06",
          "2020-04-04",
          "2020-04-02",
          "2020-03-31",
          "2020-03-29",
          "2020-03-27",
          "2020-03-25",
          "2020-03-23",
          "2020-03-21",
          "2020-03-19",
          "2020-03-17",
          "2020-03-15",
          "2020-03-13",
          "2020-03-11",
          "2020-03-09",
          "2020-03-07",
          "2020-03-05",
          "2020-03-03"
         ],
         "xaxis": "x",
         "y": [
          0.09230769230769231,
          0.0196078431372549,
          0.0196078431372549,
          0.02040816326530612,
          0.022727272727272728,
          0.02040816326530612,
          0,
          0,
          0,
          0,
          0,
          0,
          0,
          0,
          0,
          0,
          0,
          0,
          0,
          0,
          0,
          0,
          0,
          0,
          0,
          0,
          0,
          0,
          0,
          0,
          0,
          0,
          0,
          0,
          0,
          0,
          0,
          0,
          0,
          0,
          0,
          0,
          0,
          0,
          0,
          0,
          0,
          0,
          0,
          0.045454545454545456,
          0.046511627906976744,
          0.046511627906976744,
          0.044444444444444446,
          0.044444444444444446,
          0.04597701149425287,
          0.04597701149425287,
          0.04597701149425287,
          0.0449438202247191,
          0.0449438202247191,
          0.043478260869565216,
          0.04,
          0.03508771929824561,
          0.036036036036036036,
          0.03669724770642202,
          0.036036036036036036,
          0.036036036036036036,
          0.036036036036036036,
          0.03571428571428571,
          0.03669724770642202,
          0.03361344537815126,
          0.03225806451612903,
          0.032,
          0.032520325203252036,
          0.048,
          0.048,
          0.045112781954887216,
          0.045112781954887216,
          0.045112781954887216,
          0.045454545454545456,
          0.045454545454545456,
          0.04411764705882353,
          0.04316546762589928,
          0.04316546762589928,
          0.041666666666666664,
          0.041666666666666664,
          0.04316546762589928,
          0.044444444444444446,
          0.043478260869565216,
          0.0425531914893617,
          0.045454545454545456
         ],
         "yaxis": "y"
        },
        {
         "hovertemplate": "variable=Emergency Shelter<br>date=%{x}<br>proportion=%{y}<extra></extra>",
         "legendgroup": "Emergency Shelter",
         "line": {
          "color": "#ab63fa",
          "dash": "solid"
         },
         "mode": "lines",
         "name": "Emergency Shelter",
         "orientation": "v",
         "showlegend": true,
         "type": "scatter",
         "x": [
          "2020-08-28",
          "2020-08-26",
          "2020-08-24",
          "2020-08-22",
          "2020-08-20",
          "2020-08-18",
          "2020-08-16",
          "2020-08-14",
          "2020-08-12",
          "2020-08-10",
          "2020-08-08",
          "2020-08-06",
          "2020-08-04",
          "2020-08-02",
          "2020-07-31",
          "2020-07-29",
          "2020-07-27",
          "2020-07-25",
          "2020-07-23",
          "2020-07-21",
          "2020-07-19",
          "2020-07-17",
          "2020-07-15",
          "2020-07-13",
          "2020-07-11",
          "2020-07-09",
          "2020-07-07",
          "2020-07-05",
          "2020-07-03",
          "2020-07-01",
          "2020-06-29",
          "2020-06-27",
          "2020-06-25",
          "2020-06-23",
          "2020-06-21",
          "2020-06-19",
          "2020-06-17",
          "2020-06-15",
          "2020-06-13",
          "2020-06-11",
          "2020-06-09",
          "2020-06-07",
          "2020-06-05",
          "2020-06-03",
          "2020-06-01",
          "2020-05-30",
          "2020-05-28",
          "2020-05-26",
          "2020-05-24",
          "2020-05-22",
          "2020-05-20",
          "2020-05-18",
          "2020-05-16",
          "2020-05-14",
          "2020-05-12",
          "2020-05-10",
          "2020-05-08",
          "2020-05-06",
          "2020-05-04",
          "2020-05-02",
          "2020-04-30",
          "2020-04-28",
          "2020-04-26",
          "2020-04-24",
          "2020-04-22",
          "2020-04-20",
          "2020-04-18",
          "2020-04-16",
          "2020-04-14",
          "2020-04-12",
          "2020-04-10",
          "2020-04-08",
          "2020-04-06",
          "2020-04-04",
          "2020-04-02",
          "2020-03-31",
          "2020-03-29",
          "2020-03-27",
          "2020-03-25",
          "2020-03-23",
          "2020-03-21",
          "2020-03-19",
          "2020-03-17",
          "2020-03-15",
          "2020-03-13",
          "2020-03-11",
          "2020-03-09",
          "2020-03-07",
          "2020-03-05",
          "2020-03-03"
         ],
         "xaxis": "x",
         "y": [
          0.23076923076923078,
          0.23529411764705882,
          0.23529411764705882,
          0.20408163265306123,
          0.22727272727272727,
          0.20408163265306123,
          0.23255813953488372,
          0.23255813953488372,
          0.23255813953488372,
          0.21739130434782608,
          0.21739130434782608,
          0.22727272727272727,
          0.24489795918367346,
          0.24489795918367346,
          0.24489795918367346,
          0.26666666666666666,
          0.2727272727272727,
          0.24489795918367346,
          0.23529411764705882,
          0.23529411764705882,
          0.24489795918367346,
          0.24489795918367346,
          0.2916666666666667,
          0.2916666666666667,
          0.2916666666666667,
          0.2916666666666667,
          0.32,
          0.2830188679245283,
          0.2459016393442623,
          0.2459016393442623,
          0.19298245614035087,
          0.19298245614035087,
          0.19298245614035087,
          0.1896551724137931,
          0.16071428571428573,
          0.16071428571428573,
          0.16071428571428573,
          0.16071428571428573,
          0.19148936170212766,
          0.19148936170212766,
          0.24074074074074073,
          0.27419354838709675,
          0.265625,
          0.265625,
          0.273972602739726,
          0.2857142857142857,
          0.26666666666666666,
          0.24691358024691357,
          0.24691358024691357,
          0.22727272727272727,
          0.23255813953488372,
          0.23255813953488372,
          0.26666666666666666,
          0.26666666666666666,
          0.27586206896551724,
          0.27586206896551724,
          0.27586206896551724,
          0.24719101123595505,
          0.24719101123595505,
          0.2391304347826087,
          0.24,
          0.2894736842105263,
          0.2972972972972973,
          0.30275229357798167,
          0.2972972972972973,
          0.2972972972972973,
          0.2972972972972973,
          0.30357142857142855,
          0.3119266055045872,
          0.3697478991596639,
          0.3709677419354839,
          0.376,
          0.3821138211382114,
          0.408,
          0.392,
          0.39097744360902253,
          0.39097744360902253,
          0.39097744360902253,
          0.3939393939393939,
          0.3939393939393939,
          0.38235294117647056,
          0.38848920863309355,
          0.38848920863309355,
          0.3958333333333333,
          0.3958333333333333,
          0.39568345323741005,
          0.37777777777777777,
          0.3695652173913043,
          0.3617021276595745,
          0.36363636363636365
         ],
         "yaxis": "y"
        },
        {
         "hovertemplate": "variable=Unknown/Other<br>date=%{x}<br>proportion=%{y}<extra></extra>",
         "legendgroup": "Unknown/Other",
         "line": {
          "color": "#FFA15A",
          "dash": "solid"
         },
         "mode": "lines",
         "name": "Unknown/Other",
         "orientation": "v",
         "showlegend": true,
         "type": "scatter",
         "x": [
          "2020-08-28",
          "2020-08-26",
          "2020-08-24",
          "2020-08-22",
          "2020-08-20",
          "2020-08-18",
          "2020-08-16",
          "2020-08-14",
          "2020-08-12",
          "2020-08-10",
          "2020-08-08",
          "2020-08-06",
          "2020-08-04",
          "2020-08-02",
          "2020-07-31",
          "2020-07-29",
          "2020-07-27",
          "2020-07-25",
          "2020-07-23",
          "2020-07-21",
          "2020-07-19",
          "2020-07-17",
          "2020-07-15",
          "2020-07-13",
          "2020-07-11",
          "2020-07-09",
          "2020-07-07",
          "2020-07-05",
          "2020-07-03",
          "2020-07-01",
          "2020-06-29",
          "2020-06-27",
          "2020-06-25",
          "2020-06-23",
          "2020-06-21",
          "2020-06-19",
          "2020-06-17",
          "2020-06-15",
          "2020-06-13",
          "2020-06-11",
          "2020-06-09",
          "2020-06-07",
          "2020-06-05",
          "2020-06-03",
          "2020-06-01",
          "2020-05-30",
          "2020-05-28",
          "2020-05-26",
          "2020-05-24",
          "2020-05-22",
          "2020-05-20",
          "2020-05-18",
          "2020-05-16",
          "2020-05-14",
          "2020-05-12",
          "2020-05-10",
          "2020-05-08",
          "2020-05-06",
          "2020-05-04",
          "2020-05-02",
          "2020-04-30",
          "2020-04-28",
          "2020-04-26",
          "2020-04-24",
          "2020-04-22",
          "2020-04-20",
          "2020-04-18",
          "2020-04-16",
          "2020-04-14",
          "2020-04-12",
          "2020-04-10",
          "2020-04-08",
          "2020-04-06",
          "2020-04-04",
          "2020-04-02",
          "2020-03-31",
          "2020-03-29",
          "2020-03-27",
          "2020-03-25",
          "2020-03-23",
          "2020-03-21",
          "2020-03-19",
          "2020-03-17",
          "2020-03-15",
          "2020-03-13",
          "2020-03-11",
          "2020-03-09",
          "2020-03-07",
          "2020-03-05",
          "2020-03-03"
         ],
         "xaxis": "x",
         "y": [
          0.18461538461538463,
          0.17647058823529413,
          0.17647058823529413,
          0.1836734693877551,
          0.20454545454545456,
          0.1836734693877551,
          0.20930232558139536,
          0.20930232558139536,
          0.20930232558139536,
          0.1956521739130435,
          0.1956521739130435,
          0.1590909090909091,
          0.14285714285714285,
          0.14285714285714285,
          0.14285714285714285,
          0.15555555555555556,
          0.13636363636363635,
          0.16326530612244897,
          0.19607843137254902,
          0.19607843137254902,
          0.16326530612244897,
          0.16326530612244897,
          0.16666666666666666,
          0.20833333333333334,
          0.20833333333333334,
          0.20833333333333334,
          0.2,
          0.18867924528301888,
          0.16393442622950818,
          0.16393442622950818,
          0.17543859649122806,
          0.17543859649122806,
          0.17543859649122806,
          0.1724137931034483,
          0.17857142857142858,
          0.17857142857142858,
          0.17857142857142858,
          0.17857142857142858,
          0.14893617021276595,
          0.14893617021276595,
          0.18518518518518517,
          0.16129032258064516,
          0.1875,
          0.1875,
          0.1643835616438356,
          0.17142857142857143,
          0.16,
          0.18518518518518517,
          0.18518518518518517,
          0.20454545454545456,
          0.20930232558139536,
          0.20930232558139536,
          0.2,
          0.2,
          0.20689655172413793,
          0.20689655172413793,
          0.20689655172413793,
          0.20224719101123595,
          0.20224719101123595,
          0.1956521739130435,
          0.22,
          0.19298245614035087,
          0.1981981981981982,
          0.1834862385321101,
          0.18018018018018017,
          0.18018018018018017,
          0.18018018018018017,
          0.17857142857142858,
          0.1651376146788991,
          0.15126050420168066,
          0.14516129032258066,
          0.144,
          0.14634146341463414,
          0.144,
          0.144,
          0.13533834586466165,
          0.13533834586466165,
          0.13533834586466165,
          0.13636363636363635,
          0.13636363636363635,
          0.16176470588235295,
          0.16546762589928057,
          0.16546762589928057,
          0.1736111111111111,
          0.1736111111111111,
          0.15827338129496402,
          0.16296296296296298,
          0.15942028985507245,
          0.1773049645390071,
          0.1893939393939394
         ],
         "yaxis": "y"
        }
       ],
       "layout": {
        "legend": {
         "title": {
          "text": "variable"
         },
         "tracegroupgap": 0
        },
        "template": {
         "data": {
          "bar": [
           {
            "error_x": {
             "color": "#2a3f5f"
            },
            "error_y": {
             "color": "#2a3f5f"
            },
            "marker": {
             "line": {
              "color": "#E5ECF6",
              "width": 0.5
             }
            },
            "type": "bar"
           }
          ],
          "barpolar": [
           {
            "marker": {
             "line": {
              "color": "#E5ECF6",
              "width": 0.5
             }
            },
            "type": "barpolar"
           }
          ],
          "carpet": [
           {
            "aaxis": {
             "endlinecolor": "#2a3f5f",
             "gridcolor": "white",
             "linecolor": "white",
             "minorgridcolor": "white",
             "startlinecolor": "#2a3f5f"
            },
            "baxis": {
             "endlinecolor": "#2a3f5f",
             "gridcolor": "white",
             "linecolor": "white",
             "minorgridcolor": "white",
             "startlinecolor": "#2a3f5f"
            },
            "type": "carpet"
           }
          ],
          "choropleth": [
           {
            "colorbar": {
             "outlinewidth": 0,
             "ticks": ""
            },
            "type": "choropleth"
           }
          ],
          "contour": [
           {
            "colorbar": {
             "outlinewidth": 0,
             "ticks": ""
            },
            "colorscale": [
             [
              0,
              "#0d0887"
             ],
             [
              0.1111111111111111,
              "#46039f"
             ],
             [
              0.2222222222222222,
              "#7201a8"
             ],
             [
              0.3333333333333333,
              "#9c179e"
             ],
             [
              0.4444444444444444,
              "#bd3786"
             ],
             [
              0.5555555555555556,
              "#d8576b"
             ],
             [
              0.6666666666666666,
              "#ed7953"
             ],
             [
              0.7777777777777778,
              "#fb9f3a"
             ],
             [
              0.8888888888888888,
              "#fdca26"
             ],
             [
              1,
              "#f0f921"
             ]
            ],
            "type": "contour"
           }
          ],
          "contourcarpet": [
           {
            "colorbar": {
             "outlinewidth": 0,
             "ticks": ""
            },
            "type": "contourcarpet"
           }
          ],
          "heatmap": [
           {
            "colorbar": {
             "outlinewidth": 0,
             "ticks": ""
            },
            "colorscale": [
             [
              0,
              "#0d0887"
             ],
             [
              0.1111111111111111,
              "#46039f"
             ],
             [
              0.2222222222222222,
              "#7201a8"
             ],
             [
              0.3333333333333333,
              "#9c179e"
             ],
             [
              0.4444444444444444,
              "#bd3786"
             ],
             [
              0.5555555555555556,
              "#d8576b"
             ],
             [
              0.6666666666666666,
              "#ed7953"
             ],
             [
              0.7777777777777778,
              "#fb9f3a"
             ],
             [
              0.8888888888888888,
              "#fdca26"
             ],
             [
              1,
              "#f0f921"
             ]
            ],
            "type": "heatmap"
           }
          ],
          "heatmapgl": [
           {
            "colorbar": {
             "outlinewidth": 0,
             "ticks": ""
            },
            "colorscale": [
             [
              0,
              "#0d0887"
             ],
             [
              0.1111111111111111,
              "#46039f"
             ],
             [
              0.2222222222222222,
              "#7201a8"
             ],
             [
              0.3333333333333333,
              "#9c179e"
             ],
             [
              0.4444444444444444,
              "#bd3786"
             ],
             [
              0.5555555555555556,
              "#d8576b"
             ],
             [
              0.6666666666666666,
              "#ed7953"
             ],
             [
              0.7777777777777778,
              "#fb9f3a"
             ],
             [
              0.8888888888888888,
              "#fdca26"
             ],
             [
              1,
              "#f0f921"
             ]
            ],
            "type": "heatmapgl"
           }
          ],
          "histogram": [
           {
            "marker": {
             "colorbar": {
              "outlinewidth": 0,
              "ticks": ""
             }
            },
            "type": "histogram"
           }
          ],
          "histogram2d": [
           {
            "colorbar": {
             "outlinewidth": 0,
             "ticks": ""
            },
            "colorscale": [
             [
              0,
              "#0d0887"
             ],
             [
              0.1111111111111111,
              "#46039f"
             ],
             [
              0.2222222222222222,
              "#7201a8"
             ],
             [
              0.3333333333333333,
              "#9c179e"
             ],
             [
              0.4444444444444444,
              "#bd3786"
             ],
             [
              0.5555555555555556,
              "#d8576b"
             ],
             [
              0.6666666666666666,
              "#ed7953"
             ],
             [
              0.7777777777777778,
              "#fb9f3a"
             ],
             [
              0.8888888888888888,
              "#fdca26"
             ],
             [
              1,
              "#f0f921"
             ]
            ],
            "type": "histogram2d"
           }
          ],
          "histogram2dcontour": [
           {
            "colorbar": {
             "outlinewidth": 0,
             "ticks": ""
            },
            "colorscale": [
             [
              0,
              "#0d0887"
             ],
             [
              0.1111111111111111,
              "#46039f"
             ],
             [
              0.2222222222222222,
              "#7201a8"
             ],
             [
              0.3333333333333333,
              "#9c179e"
             ],
             [
              0.4444444444444444,
              "#bd3786"
             ],
             [
              0.5555555555555556,
              "#d8576b"
             ],
             [
              0.6666666666666666,
              "#ed7953"
             ],
             [
              0.7777777777777778,
              "#fb9f3a"
             ],
             [
              0.8888888888888888,
              "#fdca26"
             ],
             [
              1,
              "#f0f921"
             ]
            ],
            "type": "histogram2dcontour"
           }
          ],
          "mesh3d": [
           {
            "colorbar": {
             "outlinewidth": 0,
             "ticks": ""
            },
            "type": "mesh3d"
           }
          ],
          "parcoords": [
           {
            "line": {
             "colorbar": {
              "outlinewidth": 0,
              "ticks": ""
             }
            },
            "type": "parcoords"
           }
          ],
          "pie": [
           {
            "automargin": true,
            "type": "pie"
           }
          ],
          "scatter": [
           {
            "marker": {
             "colorbar": {
              "outlinewidth": 0,
              "ticks": ""
             }
            },
            "type": "scatter"
           }
          ],
          "scatter3d": [
           {
            "line": {
             "colorbar": {
              "outlinewidth": 0,
              "ticks": ""
             }
            },
            "marker": {
             "colorbar": {
              "outlinewidth": 0,
              "ticks": ""
             }
            },
            "type": "scatter3d"
           }
          ],
          "scattercarpet": [
           {
            "marker": {
             "colorbar": {
              "outlinewidth": 0,
              "ticks": ""
             }
            },
            "type": "scattercarpet"
           }
          ],
          "scattergeo": [
           {
            "marker": {
             "colorbar": {
              "outlinewidth": 0,
              "ticks": ""
             }
            },
            "type": "scattergeo"
           }
          ],
          "scattergl": [
           {
            "marker": {
             "colorbar": {
              "outlinewidth": 0,
              "ticks": ""
             }
            },
            "type": "scattergl"
           }
          ],
          "scattermapbox": [
           {
            "marker": {
             "colorbar": {
              "outlinewidth": 0,
              "ticks": ""
             }
            },
            "type": "scattermapbox"
           }
          ],
          "scatterpolar": [
           {
            "marker": {
             "colorbar": {
              "outlinewidth": 0,
              "ticks": ""
             }
            },
            "type": "scatterpolar"
           }
          ],
          "scatterpolargl": [
           {
            "marker": {
             "colorbar": {
              "outlinewidth": 0,
              "ticks": ""
             }
            },
            "type": "scatterpolargl"
           }
          ],
          "scatterternary": [
           {
            "marker": {
             "colorbar": {
              "outlinewidth": 0,
              "ticks": ""
             }
            },
            "type": "scatterternary"
           }
          ],
          "surface": [
           {
            "colorbar": {
             "outlinewidth": 0,
             "ticks": ""
            },
            "colorscale": [
             [
              0,
              "#0d0887"
             ],
             [
              0.1111111111111111,
              "#46039f"
             ],
             [
              0.2222222222222222,
              "#7201a8"
             ],
             [
              0.3333333333333333,
              "#9c179e"
             ],
             [
              0.4444444444444444,
              "#bd3786"
             ],
             [
              0.5555555555555556,
              "#d8576b"
             ],
             [
              0.6666666666666666,
              "#ed7953"
             ],
             [
              0.7777777777777778,
              "#fb9f3a"
             ],
             [
              0.8888888888888888,
              "#fdca26"
             ],
             [
              1,
              "#f0f921"
             ]
            ],
            "type": "surface"
           }
          ],
          "table": [
           {
            "cells": {
             "fill": {
              "color": "#EBF0F8"
             },
             "line": {
              "color": "white"
             }
            },
            "header": {
             "fill": {
              "color": "#C8D4E3"
             },
             "line": {
              "color": "white"
             }
            },
            "type": "table"
           }
          ]
         },
         "layout": {
          "annotationdefaults": {
           "arrowcolor": "#2a3f5f",
           "arrowhead": 0,
           "arrowwidth": 1
          },
          "autotypenumbers": "strict",
          "coloraxis": {
           "colorbar": {
            "outlinewidth": 0,
            "ticks": ""
           }
          },
          "colorscale": {
           "diverging": [
            [
             0,
             "#8e0152"
            ],
            [
             0.1,
             "#c51b7d"
            ],
            [
             0.2,
             "#de77ae"
            ],
            [
             0.3,
             "#f1b6da"
            ],
            [
             0.4,
             "#fde0ef"
            ],
            [
             0.5,
             "#f7f7f7"
            ],
            [
             0.6,
             "#e6f5d0"
            ],
            [
             0.7,
             "#b8e186"
            ],
            [
             0.8,
             "#7fbc41"
            ],
            [
             0.9,
             "#4d9221"
            ],
            [
             1,
             "#276419"
            ]
           ],
           "sequential": [
            [
             0,
             "#0d0887"
            ],
            [
             0.1111111111111111,
             "#46039f"
            ],
            [
             0.2222222222222222,
             "#7201a8"
            ],
            [
             0.3333333333333333,
             "#9c179e"
            ],
            [
             0.4444444444444444,
             "#bd3786"
            ],
            [
             0.5555555555555556,
             "#d8576b"
            ],
            [
             0.6666666666666666,
             "#ed7953"
            ],
            [
             0.7777777777777778,
             "#fb9f3a"
            ],
            [
             0.8888888888888888,
             "#fdca26"
            ],
            [
             1,
             "#f0f921"
            ]
           ],
           "sequentialminus": [
            [
             0,
             "#0d0887"
            ],
            [
             0.1111111111111111,
             "#46039f"
            ],
            [
             0.2222222222222222,
             "#7201a8"
            ],
            [
             0.3333333333333333,
             "#9c179e"
            ],
            [
             0.4444444444444444,
             "#bd3786"
            ],
            [
             0.5555555555555556,
             "#d8576b"
            ],
            [
             0.6666666666666666,
             "#ed7953"
            ],
            [
             0.7777777777777778,
             "#fb9f3a"
            ],
            [
             0.8888888888888888,
             "#fdca26"
            ],
            [
             1,
             "#f0f921"
            ]
           ]
          },
          "colorway": [
           "#636efa",
           "#EF553B",
           "#00cc96",
           "#ab63fa",
           "#FFA15A",
           "#19d3f3",
           "#FF6692",
           "#B6E880",
           "#FF97FF",
           "#FECB52"
          ],
          "font": {
           "color": "#2a3f5f"
          },
          "geo": {
           "bgcolor": "white",
           "lakecolor": "white",
           "landcolor": "#E5ECF6",
           "showlakes": true,
           "showland": true,
           "subunitcolor": "white"
          },
          "hoverlabel": {
           "align": "left"
          },
          "hovermode": "closest",
          "mapbox": {
           "style": "light"
          },
          "paper_bgcolor": "white",
          "plot_bgcolor": "#E5ECF6",
          "polar": {
           "angularaxis": {
            "gridcolor": "white",
            "linecolor": "white",
            "ticks": ""
           },
           "bgcolor": "#E5ECF6",
           "radialaxis": {
            "gridcolor": "white",
            "linecolor": "white",
            "ticks": ""
           }
          },
          "scene": {
           "xaxis": {
            "backgroundcolor": "#E5ECF6",
            "gridcolor": "white",
            "gridwidth": 2,
            "linecolor": "white",
            "showbackground": true,
            "ticks": "",
            "zerolinecolor": "white"
           },
           "yaxis": {
            "backgroundcolor": "#E5ECF6",
            "gridcolor": "white",
            "gridwidth": 2,
            "linecolor": "white",
            "showbackground": true,
            "ticks": "",
            "zerolinecolor": "white"
           },
           "zaxis": {
            "backgroundcolor": "#E5ECF6",
            "gridcolor": "white",
            "gridwidth": 2,
            "linecolor": "white",
            "showbackground": true,
            "ticks": "",
            "zerolinecolor": "white"
           }
          },
          "shapedefaults": {
           "line": {
            "color": "#2a3f5f"
           }
          },
          "ternary": {
           "aaxis": {
            "gridcolor": "white",
            "linecolor": "white",
            "ticks": ""
           },
           "baxis": {
            "gridcolor": "white",
            "linecolor": "white",
            "ticks": ""
           },
           "bgcolor": "#E5ECF6",
           "caxis": {
            "gridcolor": "white",
            "linecolor": "white",
            "ticks": ""
           }
          },
          "title": {
           "x": 0.05
          },
          "xaxis": {
           "automargin": true,
           "gridcolor": "white",
           "linecolor": "white",
           "ticks": "",
           "title": {
            "standoff": 15
           },
           "zerolinecolor": "white",
           "zerolinewidth": 2
          },
          "yaxis": {
           "automargin": true,
           "gridcolor": "white",
           "linecolor": "white",
           "ticks": "",
           "title": {
            "standoff": 15
           },
           "zerolinecolor": "white",
           "zerolinewidth": 2
          }
         }
        },
        "title": {
         "text": "90-Day Moving Averages"
        },
        "xaxis": {
         "anchor": "y",
         "domain": [
          0,
          1
         ],
         "title": {
          "text": "date"
         }
        },
        "yaxis": {
         "anchor": "x",
         "domain": [
          0,
          1
         ],
         "title": {
          "text": "proportion"
         }
        }
       }
      }
     },
     "metadata": {}
    }
   ],
   "source": [
    "plot_moving_avg(session, 90, 180)"
   ]
  },
  {
   "cell_type": "code",
   "execution_count": null,
   "metadata": {},
   "outputs": [],
   "source": []
  }
 ]
}