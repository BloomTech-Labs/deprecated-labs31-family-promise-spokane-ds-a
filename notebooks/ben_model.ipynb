{
 "cells": [
  {
   "cell_type": "code",
   "execution_count": null,
   "metadata": {
    "id": "p88qmvo9U1ge"
   },
   "outputs": [],
   "source": [
    "# !pip install category_encoders\n",
    "# !pip install --force-reinstall scikit-learn==0.24.1"
   ]
  },
  {
   "cell_type": "code",
   "execution_count": 2,
   "metadata": {
    "id": "Ko6sx-acPpSs"
   },
   "outputs": [],
   "source": [
    "\n",
    "from datetime import datetime\n",
    "import pandas as pd\n",
    "import numpy as np\n"
   ]
  },
  {
   "cell_type": "code",
   "execution_count": 3,
   "metadata": {
    "colab": {
     "base_uri": "https://localhost:8080/"
    },
    "id": "dAc7-Fq9Nbpz",
    "outputId": "7a0f634e-f0a1-4fad-e42c-6bb00dff037f"
   },
   "outputs": [
    {
     "data": {
      "text/plain": [
       "(576, 143)"
      ]
     },
     "execution_count": 3,
     "metadata": {},
     "output_type": "execute_result"
    }
   ],
   "source": [
    "# Upload data file from repo!\n",
    "\n",
    "df = pd.read_csv('../All_data_with_exits.csv', \n",
    "                 parse_dates=['3.10 Enroll Date', '3.11 Exit Date', '3.917 Homeless Start Date'])\n",
    "df = df[df['3.15 Relationship to HoH'] == 'Self']\n",
    "df.shape"
   ]
  },
  {
   "cell_type": "code",
   "execution_count": 4,
   "metadata": {
    "id": "w4EFLjbCkvQ2"
   },
   "outputs": [],
   "source": [
    "JSON_STR_COLS = [\n",
    "    '4.4 Covered by Health Insurance',\n",
    "    '4.11 Domestic Violence - Currently Fleeing DV?', '3.6 Gender',\n",
    "    '3.15 Relationship to HoH', '3.4 Race', '3.5 Ethnicity', \n",
    "    '4.10 Alcohol Abuse (Substance Abuse)', '4.06 Developmental Disability',\n",
    "    '4.07 Chronic Health Condition', '4.10 Drug Abuse (Substance Abuse)',\n",
    "    '4.08 HIV/AIDS', '4.09 Mental Health Problem', '4.05 Physical Disability',\n",
    "    'R5 School Status'\n",
    "]\n",
    "\n",
    "df['4.2 Income Total at Entry'] = df['4.2 Income Total at Entry'].fillna(-1)\n",
    "df[JSON_STR_COLS] = df[JSON_STR_COLS].fillna('')"
   ]
  },
  {
   "cell_type": "code",
   "execution_count": 5,
   "metadata": {
    "colab": {
     "base_uri": "https://localhost:8080/"
    },
    "id": "SW0xEJAWNeFX",
    "outputId": "fe784a40-4af8-4c38-f670-4b639c885da5"
   },
   "outputs": [
    {
     "data": {
      "text/plain": [
       "(576, 23)"
      ]
     },
     "execution_count": 5,
     "metadata": {},
     "output_type": "execute_result"
    }
   ],
   "source": [
    "clean = pd.DataFrame()\n",
    "\n",
    "clean['family_id'] = df['5.9 Household ID']\n",
    "clean['homeless_info.homeless_start_date'] = df['3.917 Homeless Start Date']\n",
    "clean['insurance.has_insurance'] = df['4.4 Covered by Health Insurance']\n",
    "clean['domestic_violence_info.fleeing_dv'] = df['4.11 Domestic Violence - Currently Fleeing DV?']\n",
    "\n",
    "clean['id'] = df['5.8 Personal ID']\n",
    "clean['date_of_enrollment'] = df['3.10 Enroll Date']\n",
    "clean['household_type'] = df['Household Type']\n",
    "clean['length_of_stay'] = (df['3.11 Exit Date'] - df['3.10 Enroll Date']).dt.days\n",
    "\n",
    "clean['demographics.race'] = df['3.4 Race']\n",
    "clean['demographics.ethnicity'] = df['3.5 Ethnicity']\n",
    "clean['demographics.gender'] = df['3.6 Gender']\n",
    "clean['demographics.relationship'] = df['3.15 Relationship to HoH']\n",
    "clean['demographics.income'] = df['4.2 Income Total at Entry']\n",
    "\n",
    "clean['barriers.HIV_AIDs'] = df['4.08 HIV/AIDS']\n",
    "clean['barriers.alcohol_abuse'] = df['4.10 Alcohol Abuse (Substance Abuse)']\n",
    "clean['barriers.drug_abuse'] = df['4.10 Drug Abuse (Substance Abuse)']\n",
    "clean['barriers.chronic_health_issues'] = df['4.07 Chronic Health Condition']\n",
    "clean['barriers.developmental_disabilities'] = df['4.06 Developmental Disability']\n",
    "clean['barriers.mental_illness'] = df['4.09 Mental Health Problem']\n",
    "clean['barriers.physical_disabilities'] = df['4.05 Physical Disability']\n",
    "\n",
    "clean['schools.enrolled_status'] = df['R5 School Status']\n",
    "clean['case_members'] = df['CaseMembers']\n",
    "\n",
    "# clean['birth_year'] = (df['3.10 Enroll Date'].dt.year - df['Age at Enrollment'])\n",
    "# clean['inc_earned'] = df['4.2.3a Earned Income']\n",
    "# clean['inc_unemployement'] = df['4.2.4b Unemployment Insurance']\n",
    "# clean['inc_ss_disabil'] = df['4.2.6d Social Security Disability  Income']\n",
    "# clean['inc_tanf'] = df['4.2.11i TANF']\n",
    "# clean['inc_child_sup'] = df['4.2.15m Child Support']\n",
    "# clean['school'] = df['R5 School Status']\n",
    "# clean['highest_grade'] = df['R4 Last Grade Completed']\n",
    "# clean['times_homeless_3y'] = df['3.917 Times Homeless Last 3 Years']\n",
    "# clean['tot_months_homeless_3y'] = df['3.917 Total Months Homeless Last 3 Years']\n",
    "# clean['pregnancy'] = df['R10 Pregnancy Status']\n",
    "# clean['preg_due_date'] = df['R10 Pregnancy Due Date']\n",
    "\n",
    "\n",
    "clean['exit_dest'] = df['3.12 Exit Destination'].replace({\n",
    "    #### THIS DICT FROM \"Data Exploration\" NOTEBOOK\n",
    "    \n",
    "    # Permanent Exits\n",
    "    'Staying or living with family, permanent tenure' : 'Permanent Exit',\n",
    "    'Staying or living with friends, permanent tenure' : 'Permanent Exit',\n",
    "    'Permanent housing (other than RRH) for formerly homeless persons' : 'Permanent Exit',\n",
    "    'Rental by client with RRH or equivalent subsidy' : 'Permanent Exit',\n",
    "    'Rental by client, no ongoing housing subsidy' : 'Permanent Exit',\n",
    "    'Rental by client, other ongoing housing subsidy' : 'Permanent Exit',\n",
    "    'Owned by client, no ongoing housing subsidy' : 'Permanent Exit',\n",
    "    \n",
    "    # Temporary Exits\n",
    "    'Staying or living with family, temporary tenure (e.g., room, apartment or house)' : 'Temporary Exit',\n",
    "    'Staying or living with friends, temporary tenure (e.g., room, apartment or house)' : 'Temporary Exit',\n",
    "    \n",
    "    # Emergency Shelter\n",
    "    'Emergency shelter, including hotel or motel paid for with emergency shelter voucher, or RHY-funded Host Home shelter' : 'Emergency Shelter',\n",
    "   \n",
    "    # Transitional Housing\n",
    "    'Transitional Housing for homeless persons (including homeless youth)' : 'Transitional Housing',\n",
    "    'Safe Haven' : 'Transitional Housing',\n",
    "    'Substance Abuse Treatment or Detox Center' : 'Transitional Housing',\n",
    "    'Foster Care Home or Foster Care Group Home' : 'Transitional Housing',\n",
    "    'Psychiatric Hospital or Other Psychiatric Facility' : 'Transitional Housing',\n",
    "   \n",
    "    # Unknown/Other\n",
    "    'Hotel or Motel paid for without Emergency Shelter Voucher' : 'Unknown/Other',\n",
    "    'Place not meant for habitation (e.g., a vehicle, an abandoned building, bus/train/subway station/airport or anywhere outside)' : 'Unknown/Other',\n",
    "    'No exit interview completed' : 'Unknown/Other',\n",
    "    'Client refused' : 'Unknown/Other',\n",
    "    'Other' : 'Unknown/Other',\n",
    "    'Client doesn\\'t know' : 'Unknown/Other',\n",
    "    np.NaN : 'Unknown/Other'\n",
    "})\n",
    "\n",
    "\n",
    "def wrangle(df):\n",
    "    df = df.copy()\n",
    "\n",
    "    df['homeless_start_year'] = df['homeless_info.homeless_start_date'].dt.year\n",
    "    df['homeless_start_doy'] = df['homeless_info.homeless_start_date'].dt.dayofyear\n",
    "\n",
    "    df['year_of_enrollment'] = df['date_of_enrollment'].dt.year\n",
    "    df['doy_of_enrollment'] = df['date_of_enrollment'].dt.dayofyear\n",
    "\n",
    "    df = df.drop(columns=['homeless_info.homeless_start_date', \n",
    "                          'date_of_enrollment', 'id', 'family_id'])\n",
    "\n",
    "    return df[sorted(df.columns)]\n",
    "\n",
    "clean = wrangle(clean)\n",
    "clean.shape"
   ]
  },
  {
   "cell_type": "code",
   "execution_count": 5,
   "metadata": {
    "colab": {
     "base_uri": "https://localhost:8080/"
    },
    "id": "UT74ukiEOb2R",
    "outputId": "f854ab3a-c98c-4667-a611-e3c11c287cda"
   },
   "outputs": [
    {
     "name": "stderr",
     "output_type": "stream",
     "text": [
      "/usr/local/lib/python3.6/dist-packages/statsmodels/tools/_testing.py:19: FutureWarning: pandas.util.testing is deprecated. Use the functions in the public API at pandas.testing instead.\n",
      "  import pandas.util.testing as tm\n"
     ]
    }
   ],
   "source": [
    "\n",
    "import matplotlib.pyplot as plt\n",
    "from category_encoders import OrdinalEncoder\n",
    "from sklearn.impute import SimpleImputer\n",
    "from sklearn.tree import DecisionTreeClassifier\n",
    "from sklearn.ensemble import RandomForestClassifier\n",
    "from sklearn.pipeline import make_pipeline\n",
    "from sklearn.model_selection import train_test_split, StratifiedKFold, cross_val_score\n",
    "from sklearn.inspection import permutation_importance\n",
    "from sklearn.metrics import plot_confusion_matrix\n"
   ]
  },
  {
   "cell_type": "code",
   "execution_count": 13,
   "metadata": {
    "id": "IR3zQyCMVQpQ"
   },
   "outputs": [],
   "source": [
    "\n",
    "X = clean.drop(columns=['exit_dest'])\n",
    "y = clean['exit_dest']\n",
    "\n",
    "Xt, Xv, yt, yv = train_test_split(X, y, test_size=.2)\n"
   ]
  },
  {
   "cell_type": "code",
   "execution_count": 14,
   "metadata": {
    "colab": {
     "base_uri": "https://localhost:8080/"
    },
    "id": "2MmXWuL4NeoZ",
    "outputId": "7739120c-24a3-4854-8d55-df7e5ee1d5ff"
   },
   "outputs": [
    {
     "data": {
      "text/plain": [
       "Unknown/Other           0.368056\n",
       "Permanent Exit          0.307292\n",
       "Emergency Shelter       0.217014\n",
       "Temporary Exit          0.059028\n",
       "Transitional Housing    0.048611\n",
       "Name: exit_dest, dtype: float64"
      ]
     },
     "execution_count": 14,
     "metadata": {
      "tags": []
     },
     "output_type": "execute_result"
    }
   ],
   "source": [
    "y.value_counts(normalize=True)"
   ]
  },
  {
   "cell_type": "code",
   "execution_count": 15,
   "metadata": {
    "colab": {
     "base_uri": "https://localhost:8080/"
    },
    "id": "cRamiM0kVE7m",
    "outputId": "ef13c2c2-03ff-475f-d769-9e70154b2506"
   },
   "outputs": [
    {
     "data": {
      "text/plain": [
       "0.4567118226600986"
      ]
     },
     "execution_count": 15,
     "metadata": {
      "tags": []
     },
     "output_type": "execute_result"
    }
   ],
   "source": [
    "model = make_pipeline(\n",
    "    OrdinalEncoder(),\n",
    "    SimpleImputer(),\n",
    "    DecisionTreeClassifier(max_depth=1)\n",
    ")\n",
    "\n",
    "cross_val_score(model, X, y, cv=20, n_jobs=-1).mean()"
   ]
  },
  {
   "cell_type": "code",
   "execution_count": 16,
   "metadata": {
    "colab": {
     "base_uri": "https://localhost:8080/"
    },
    "id": "rTZwqEpxpMUA",
    "outputId": "bac27fdd-7c96-4909-c680-4130a6aa760e"
   },
   "outputs": [
    {
     "data": {
      "text/plain": [
       "Pipeline(steps=[('ordinalencoder',\n",
       "                 OrdinalEncoder(cols=['barriers.HIV_AIDs',\n",
       "                                      'barriers.alcohol_abuse',\n",
       "                                      'barriers.chronic_health_issues',\n",
       "                                      'barriers.developmental_disabilities',\n",
       "                                      'barriers.drug_abuse',\n",
       "                                      'barriers.mental_illness',\n",
       "                                      'barriers.physical_disabilities',\n",
       "                                      'demographics.ethnicity',\n",
       "                                      'demographics.gender',\n",
       "                                      'demographics.race',\n",
       "                                      'demographics.relationship',\n",
       "                                      'do...\n",
       "Household with Only Children          3\n",
       "NaN                                  -2\n",
       "dtype: int64},\n",
       "                                         {'col': 'insurance.has_insurance',\n",
       "                                          'data_type': dtype('O'),\n",
       "                                          'mapping': Yes                   1\n",
       "No                    2\n",
       "Client refused        3\n",
       "Data Not Collected    4\n",
       "                      5\n",
       "NaN                  -2\n",
       "dtype: int64},\n",
       "                                         {'col': 'schools.enrolled_status',\n",
       "                                          'data_type': dtype('O'),\n",
       "                                          'mapping':        1\n",
       "NaN   -2\n",
       "dtype: int64}])),\n",
       "                ('simpleimputer', SimpleImputer()),\n",
       "                ('decisiontreeclassifier',\n",
       "                 DecisionTreeClassifier(max_depth=1))])"
      ]
     },
     "execution_count": 16,
     "metadata": {
      "tags": []
     },
     "output_type": "execute_result"
    }
   ],
   "source": [
    "model.fit(Xt, yt)"
   ]
  },
  {
   "cell_type": "code",
   "execution_count": 17,
   "metadata": {
    "colab": {
     "base_uri": "https://localhost:8080/",
     "height": 551
    },
    "id": "3Sz5pCcZzKjg",
    "outputId": "e896f195-0e3f-4174-d7d6-5ad1b8d5c2f2"
   },
   "outputs": [
    {
     "data": {
      "image/png": "[encoded data removed]",
      "text/plain": [
       "<Figure size 864x648 with 2 Axes>"
      ]
     },
     "metadata": {
      "needs_background": "light",
      "tags": []
     },
     "output_type": "display_data"
    }
   ],
   "source": [
    "fig, ax = plt.subplots(figsize=[12,9])\n",
    "plot_confusion_matrix(model, Xv, yv, normalize='pred', ax=ax);"
   ]
  },
  {
   "cell_type": "code",
   "execution_count": 18,
   "metadata": {
    "colab": {
     "base_uri": "https://localhost:8080/"
    },
    "id": "oTa7rxASvMkd",
    "outputId": "099e804a-3fd0-4cd8-82a9-684a8dd44aa6"
   },
   "outputs": [
    {
     "data": {
      "text/plain": [
       "length_of_stay                         1.0\n",
       "year_of_enrollment                     0.0\n",
       "demographics.gender                    0.0\n",
       "barriers.alcohol_abuse                 0.0\n",
       "barriers.chronic_health_issues         0.0\n",
       "barriers.developmental_disabilities    0.0\n",
       "barriers.drug_abuse                    0.0\n",
       "barriers.mental_illness                0.0\n",
       "barriers.physical_disabilities         0.0\n",
       "case_members                           0.0\n",
       "demographics.ethnicity                 0.0\n",
       "demographics.income                    0.0\n",
       "schools.enrolled_status                0.0\n",
       "demographics.race                      0.0\n",
       "demographics.relationship              0.0\n",
       "domestic_violence_info.fleeing_dv      0.0\n",
       "doy_of_enrollment                      0.0\n",
       "homeless_start_doy                     0.0\n",
       "homeless_start_year                    0.0\n",
       "household_type                         0.0\n",
       "insurance.has_insurance                0.0\n",
       "barriers.HIV_AIDs                      0.0\n",
       "dtype: float64"
      ]
     },
     "execution_count": 18,
     "metadata": {
      "tags": []
     },
     "output_type": "execute_result"
    }
   ],
   "source": [
    "pd.Series(model.named_steps['decisiontreeclassifier'].feature_importances_, index=X.columns).sort_values(ascending=False)"
   ]
  },
  {
   "cell_type": "code",
   "execution_count": 21,
   "metadata": {
    "colab": {
     "base_uri": "https://localhost:8080/"
    },
    "id": "kCXhb4yici4h",
    "outputId": "18292ba7-bee4-4854-f4d7-6cf1ba3e4b13"
   },
   "outputs": [
    {
     "name": "stderr",
     "output_type": "stream",
     "text": [
      "/usr/local/lib/python3.6/dist-packages/category_encoders/utils.py:21: FutureWarning: is_categorical is deprecated and will be removed in a future version.  Use is_categorical_dtype instead\n",
      "  elif pd.api.types.is_categorical(cols):\n"
     ]
    },
    {
     "data": {
      "text/plain": [
       "['tree3.ser']"
      ]
     },
     "execution_count": 21,
     "metadata": {
      "tags": []
     },
     "output_type": "execute_result"
    }
   ],
   "source": [
    "import pickle\n",
    "import joblib\n",
    "\n",
    "model.fit(X, y)\n",
    "\n",
    "joblib.dump(model, 'tree3.ser')\n",
    "# pickle.dump(model, open('tree_pipeline3.pickle', 'wb'))"
   ]
  },
  {
   "cell_type": "code",
   "execution_count": null,
   "metadata": {
    "id": "ULjgZavE9-kM"
   },
   "outputs": [],
   "source": [
    "from requests import get"
   ]
  },
  {
   "cell_type": "code",
   "execution_count": null,
   "metadata": {
    "id": "LUyYwH1WG6f9"
   },
   "outputs": [],
   "source": []
  }
 ],
 "metadata": {
  "colab": {
   "collapsed_sections": [],
   "name": "ben_model",
   "provenance": []
  },
  "kernelspec": {
   "display_name": "Python 3",
   "language": "python",
   "name": "python3"
  },
  "language_info": {
   "codemirror_mode": {
    "name": "ipython",
    "version": 3
   },
   "file_extension": ".py",
   "mimetype": "text/x-python",
   "name": "python",
   "nbconvert_exporter": "python",
   "pygments_lexer": "ipython3",
   "version": "3.8.8"
  }
 },
 "nbformat": 4,
 "nbformat_minor": 1
}
